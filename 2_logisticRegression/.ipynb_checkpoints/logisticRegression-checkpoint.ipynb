{
 "cells": [
  {
   "cell_type": "code",
   "execution_count": 1,
   "metadata": {
    "collapsed": true
   },
   "outputs": [],
   "source": [
    "import numpy as np\n",
    "\n",
    "import pandas as pd\n",
    "from pandas.tools.plotting import scatter_matrix\n",
    "\n",
    "import matplotlib.pyplot as plt\n",
    "import matplotlib\n",
    "matplotlib.style.use('ggplot')\n",
    "\n",
    "from scipy import optimize\n",
    "\n",
    "import csv\n",
    "\n",
    "import time"
   ]
  },
  {
   "cell_type": "markdown",
   "metadata": {},
   "source": [
    "# Univariate Logistic Regression"
   ]
  },
  {
   "cell_type": "code",
   "execution_count": 2,
   "metadata": {
    "collapsed": true
   },
   "outputs": [],
   "source": [
    "pathToDataFile = 'ex2data1.txt'"
   ]
  },
  {
   "cell_type": "markdown",
   "metadata": {},
   "source": [
    "# 1 Data Visualisation"
   ]
  },
  {
   "cell_type": "code",
   "execution_count": 3,
   "metadata": {
    "collapsed": false
   },
   "outputs": [],
   "source": [
    "dataFrame = pd.read_csv(pathToDataFile, header = None)"
   ]
  },
  {
   "cell_type": "code",
   "execution_count": 4,
   "metadata": {
    "collapsed": false
   },
   "outputs": [
    {
     "data": {
      "text/plain": [
       "(100, 3)"
      ]
     },
     "execution_count": 4,
     "metadata": {},
     "output_type": "execute_result"
    }
   ],
   "source": [
    "nRows, nColumns = dataFrame.shape\n",
    "nRows, nColumns"
   ]
  },
  {
   "cell_type": "code",
   "execution_count": 5,
   "metadata": {
    "collapsed": false
   },
   "outputs": [
    {
     "data": {
      "text/html": [
       "<div>\n",
       "<table border=\"1\" class=\"dataframe\">\n",
       "  <thead>\n",
       "    <tr style=\"text-align: right;\">\n",
       "      <th></th>\n",
       "      <th>0</th>\n",
       "      <th>1</th>\n",
       "      <th>2</th>\n",
       "    </tr>\n",
       "  </thead>\n",
       "  <tbody>\n",
       "    <tr>\n",
       "      <th>0</th>\n",
       "      <td>34.623660</td>\n",
       "      <td>78.024693</td>\n",
       "      <td>0</td>\n",
       "    </tr>\n",
       "    <tr>\n",
       "      <th>1</th>\n",
       "      <td>30.286711</td>\n",
       "      <td>43.894998</td>\n",
       "      <td>0</td>\n",
       "    </tr>\n",
       "    <tr>\n",
       "      <th>2</th>\n",
       "      <td>35.847409</td>\n",
       "      <td>72.902198</td>\n",
       "      <td>0</td>\n",
       "    </tr>\n",
       "    <tr>\n",
       "      <th>3</th>\n",
       "      <td>60.182599</td>\n",
       "      <td>86.308552</td>\n",
       "      <td>1</td>\n",
       "    </tr>\n",
       "    <tr>\n",
       "      <th>4</th>\n",
       "      <td>79.032736</td>\n",
       "      <td>75.344376</td>\n",
       "      <td>1</td>\n",
       "    </tr>\n",
       "  </tbody>\n",
       "</table>\n",
       "</div>"
      ],
      "text/plain": [
       "           0          1  2\n",
       "0  34.623660  78.024693  0\n",
       "1  30.286711  43.894998  0\n",
       "2  35.847409  72.902198  0\n",
       "3  60.182599  86.308552  1\n",
       "4  79.032736  75.344376  1"
      ]
     },
     "execution_count": 5,
     "metadata": {},
     "output_type": "execute_result"
    }
   ],
   "source": [
    "print(dataFrame.head())"
   ]
  },
  {
   "cell_type": "code",
   "execution_count": 6,
   "metadata": {
    "collapsed": false
   },
   "outputs": [
    {
     "data": {
      "image/png": "[encoded data removed]",
      "text/plain": [
       "<matplotlib.figure.Figure at 0x1156589e8>"
      ]
     },
     "metadata": {},
     "output_type": "display_data"
    }
   ],
   "source": [
    "X_1s = dataFrame.iloc[:, :1]\n",
    "X_2s = dataFrame.iloc[:, 1:2]\n",
    "colour = dataFrame.iloc[:, 2:]\n",
    "plt.scatter(X_1s, X_2s, c = colour)\n",
    "plt.xlabel('X1')\n",
    "plt.ylabel('X2')\n",
    "plt.show()"
   ]
  },
  {
   "cell_type": "code",
   "execution_count": 7,
   "metadata": {
    "collapsed": false
   },
   "outputs": [],
   "source": [
    "# Xs = np.arange(-10, 10, step = 0.1)\n",
    "# Ys = sigmoid(Xs)\n",
    "# plt.plot(Xs, Ys, '-')\n",
    "# plt.show()"
   ]
  },
  {
   "cell_type": "code",
   "execution_count": 8,
   "metadata": {
    "collapsed": false
   },
   "outputs": [],
   "source": [
    "def getData(pathToDataFile):\n",
    "#     try wiht matrices as well\n",
    "    data = np.loadtxt(pathToDataFile, delimiter = ',')\n",
    "    sampleSize, numVariables = data.shape\n",
    "    Xs = np.insert(data[:, :-1], 0, 1, axis=1)\n",
    "    Ys = data[:, -1:]\n",
    "#     betas = np.matrix(np.zeros(numVariables)).T\n",
    "    betas = np.zeros((numVariables,1))\n",
    "    return Xs, Ys, betas\n",
    "\n",
    "def sigmoid(z):\n",
    "    return 1/(1 + np.exp(-z))\n",
    "\n",
    "def sigmoidHypothesis(betas, Xs):\n",
    "    return sigmoid(np.dot(Xs, betas))\n",
    "\n",
    "# def sigmoidCostFunction(Xs, Ys, betas):\n",
    "def sigmoidCostFunction(betas, Xs, Ys, iLambda = 0.):\n",
    "    sampleSize, numVariables = Xs.shape\n",
    "    Hs = sigmoidHypothesis(betas, Xs)\n",
    "#     cost = -np.sum(np.multiply(Ys, np.log(Hs)) + np.multiply((1-Ys), np.log(1-Hs)))/sampleSize\n",
    "#     cost = -np.sum(np.dot(Ys.T, np.log(Hs)) + np.dot((1-Ys).T, np.log(1-Hs)))/sampleSize\n",
    "    cost = (- np.dot(Ys.T, np.log(Hs)) - np.dot((1-Ys).T, np.log(1-Hs)))/sampleSize\n",
    "#     regularisation term (R)\n",
    "    R = iLambda*np.dot(betas[1:].T,betas[1:])/(2*sampleSize)\n",
    "    return cost + R\n",
    "#     return (cost.item(0))\n",
    "\n",
    "def optimisation (betas, Xs, Ys, iLambda=0.):\n",
    "    return optimize.fmin(sigmoidCostFunction, x0=betas, args=(Xs, Ys, iLambda), maxiter=1500, full_output=True)\n",
    "\n",
    "def plotRegression(Xs, Ys, betas):\n",
    "    X_1s = Xs[:, 1:2]\n",
    "    X_2s = Xs[:, 2:]\n",
    "    colour = Ys[:, 0:]\n",
    "    plt.scatter(X_1s, X_2s, c = colour)\n",
    "\n",
    "    fitX_2s = - betasFit[0]/betasFit[2] - X_1s*betasFit[1]/betasFit[2]\n",
    "    plt.plot(X_1s, fitX_2s, '-')\n",
    "    plt.xlabel('X1')\n",
    "    plt.ylabel('X2')\n",
    "\n",
    "    plt.show()\n",
    "    \n",
    "def estimate(betas, Xs):\n",
    "    return sigmoidHypothesis(betas, Xs) >= 0.5\n",
    "\n",
    "# add function to calculate the percentage of correct predictions\n",
    "\n",
    "def precisionANDrecal(betasFit, Xs, Ys):\n",
    "    #Divide the sample into two: ones with positive classification, one with null classification\n",
    "    positives = np.array([Xs[i] for i in range(Xs.shape[0]) if Ys[i] == 1])\n",
    "    negatives = np.array([Xs[i] for i in range(Xs.shape[0]) if Ys[i] == 0])\n",
    "    #Check to make sure I included all entries\n",
    "    # print (\"Included everything? \", (len(positives)+len(negatives) == Xs.shape[0]))\n",
    "    truePositives =  np.sum(estimate(betasFit, positives))\n",
    "    falsePositives = np.sum(estimate(betasFit, negatives))\n",
    "    falseNegatives = positives.shape[0] - np.sum(estimate(betasFit, positives))\n",
    "    precision  = truePositives/(truePositives+falsePositives)\n",
    "    recall  = truePositives/(truePositives+falseNegatives)\n",
    "    correctPredictions = (Xs.shape[0] - falsePositives - falseNegatives)/Xs.shape[0]\n",
    "    return print('Precision =', precision, '\\n', 'Recall =', recall, '\\n', 'Correct Predictions', correctPredictions)\n",
    "    "
   ]
  },
  {
   "cell_type": "code",
   "execution_count": 9,
   "metadata": {
    "collapsed": false
   },
   "outputs": [
    {
     "name": "stdout",
     "output_type": "stream",
     "text": [
      "Optimization terminated successfully.\n",
      "         Current function value: 0.203498\n",
      "         Iterations: 157\n",
      "         Function evaluations: 287\n"
     ]
    }
   ],
   "source": [
    "Xs, Ys, betas = getData(pathToDataFile)\n",
    "# iLambda = 0\n",
    "betasFit = optimisation(betas, Xs, Ys)[0]"
   ]
  },
  {
   "cell_type": "code",
   "execution_count": 10,
   "metadata": {
    "collapsed": false
   },
   "outputs": [
    {
     "name": "stdout",
     "output_type": "stream",
     "text": [
      "Precision = 0.901639344262 \n",
      " Recall = 0.916666666667 \n",
      " Correct Predictions 0.89\n"
     ]
    }
   ],
   "source": [
    "precisionANDrecal(betasFit, Xs, Ys)"
   ]
  },
  {
   "cell_type": "markdown",
   "metadata": {},
   "source": [
    "http://www.johnwittenauer.net/tag/machine-learning/\n",
    "\n",
    "http://aimotion.blogspot.se/2011/11/machine-learning-with-python-logistic.html\n",
    "\n",
    "https://beckernick.github.io/logistic-regression-from-scratch/\n",
    "\n",
    "https://github.com/kaleko/CourseraML/blob/master/ex2/ex2.ipynb\n",
    "\n",
    "http://www.scipy-lectures.org/advanced/mathematical_optimization/"
   ]
  },
  {
   "cell_type": "markdown",
   "metadata": {
    "collapsed": true
   },
   "source": [
    "# Data Set II"
   ]
  },
  {
   "cell_type": "markdown",
   "metadata": {},
   "source": [
    "## 1.1 Data Visualisation"
   ]
  },
  {
   "cell_type": "code",
   "execution_count": 11,
   "metadata": {
    "collapsed": false
   },
   "outputs": [
    {
     "name": "stdout",
     "output_type": "stream",
     "text": [
      "sampleSize = 118 numVariables = 3\n",
      "          0        1  2\n",
      "0  0.051267  0.69956  1\n",
      "1 -0.092742  0.68494  1\n",
      "2 -0.213710  0.69225  1\n",
      "3 -0.375000  0.50219  1\n",
      "4 -0.513250  0.46564  1\n"
     ]
    }
   ],
   "source": [
    "pathToDataFile_2 = 'ex2data2.txt'\n",
    "dF_2 = pd.read_csv(pathToDataFile_2, header = None)\n",
    "sampleSize, numVariables = dF_2.shape\n",
    "print ('sampleSize =', sampleSize, 'numVariables =', numVariables)\n",
    "print (dF_2.head())"
   ]
  },
  {
   "cell_type": "code",
   "execution_count": 12,
   "metadata": {
    "collapsed": false
   },
   "outputs": [
    {
     "data": {
      "image/png": "[encoded data removed]",
      "text/plain": [
       "<matplotlib.figure.Figure at 0x115658ac8>"
      ]
     },
     "metadata": {},
     "output_type": "display_data"
    }
   ],
   "source": [
    "X_1s = dF_2.iloc[:, :1]\n",
    "X_2s = dF_2.iloc[:, 1:2]\n",
    "colour = dF_2.iloc[:, 2:]\n",
    "plt.scatter(X_1s, X_2s, c = colour)\n",
    "plt.xlabel('X1')\n",
    "plt.ylabel('X2')\n",
    "plt.show()"
   ]
  },
  {
   "cell_type": "markdown",
   "metadata": {},
   "source": [
    "Fairly symple way to generate polynomial and interaction features<br\\>\n",
    "http://scikit-learn.org/stable/modules/generated/sklearn.preprocessing.PolynomialFeatures.html"
   ]
  },
  {
   "cell_type": "code",
   "execution_count": 13,
   "metadata": {
    "collapsed": true
   },
   "outputs": [],
   "source": [
    "from sklearn.preprocessing import PolynomialFeatures"
   ]
  },
  {
   "cell_type": "code",
   "execution_count": 14,
   "metadata": {
    "collapsed": true
   },
   "outputs": [],
   "source": [
    "def dataPreprocessing(pathToDataFile, polynomialDegree):\n",
    "#     try wiht matrices as well\n",
    "    data = np.loadtxt(pathToDataFile, delimiter = ',')\n",
    "    sampleSize, numVariables = data.shape\n",
    "    X = data[:, :-1]\n",
    "    y = data[:, -1:]\n",
    "    poly = PolynomialFeatures(polynomialDegree)\n",
    "    polyX = poly.fit_transform(X)\n",
    "    sampleSize, numVariables = polyX.shape\n",
    "    betas = np.zeros((numVariables,1))\n",
    "    return betas, polyX, y"
   ]
  },
  {
   "cell_type": "code",
   "execution_count": 15,
   "metadata": {
    "collapsed": false
   },
   "outputs": [
    {
     "data": {
      "text/plain": [
       "array([[ 0.69314718]])"
      ]
     },
     "execution_count": 15,
     "metadata": {},
     "output_type": "execute_result"
    }
   ],
   "source": [
    "betas_2, X_2, y_2 = dataPreprocessing(pathToDataFile_2, 6)\n",
    "sigmoidCostFunction(betas_2, X_2, y_2, iLambda = 0.)"
   ]
  },
  {
   "cell_type": "code",
   "execution_count": 19,
   "metadata": {
    "collapsed": false
   },
   "outputs": [
    {
     "name": "stdout",
     "output_type": "stream",
     "text": [
      "Warning: Maximum number of iterations has been exceeded.\n",
      "Warning: Maximum number of iterations has been exceeded.\n"
     ]
    },
    {
     "data": {
      "text/plain": [
       "array([ 0.94161575,  0.32312113,  1.31826988, -3.62138995,  0.56468858,\n",
       "        0.1217451 , -0.16836212,  0.16972447,  0.4438167 ,  0.5343568 ,\n",
       "       -1.40248544,  1.0580339 ,  4.36024046, -3.49917733, -1.67453044,\n",
       "       -0.79481067,  0.16096578,  0.18147439,  0.45340055,  0.71986858,\n",
       "       -0.74303904, -0.90561022, -1.90214061,  0.65327843,  1.42451249,\n",
       "        0.25874741,  1.05210971, -1.06088465])"
      ]
     },
     "execution_count": 19,
     "metadata": {},
     "output_type": "execute_result"
    }
   ],
   "source": [
    "optimisation(betas_2, X_2, y_2, iLambda = 0.)\n",
    "optimisation(betas_2, X_2, y_2, iLambda = 0.)[0]"
   ]
  },
  {
   "cell_type": "code",
   "execution_count": 32,
   "metadata": {
    "collapsed": false
   },
   "outputs": [
    {
     "data": {
      "image/png": "[encoded data removed]",
      "text/plain": [
       "<matplotlib.figure.Figure at 0x11c1d89b0>"
      ]
     },
     "metadata": {},
     "output_type": "display_data"
    }
   ],
   "source": [
    "import numpy as np\n",
    "import matplotlib.pyplot as plt\n",
    "\n",
    "X_1s = np.linspace(-1.0, 1.5, 100)\n",
    "X_2s = np.linspace(-1.0, 1.5, 100)\n",
    "Ys = np.zeros((len(X_1s),len(X_2s)))\n",
    "for i in range(len(X_1s)):\n",
    "    for j in xrange(len(X_2s)):\n",
    "        myfeaturesij = mapFeature(np.array([xvals[i]]),np.array([yvals[j]]))\n",
    "        zvals[i][j] = np.dot(theta,myfeaturesij.T)\n",
    "zvals = zvals.transpose()\n",
    "\n",
    "X, Y = np.meshgrid(x,y)\n",
    "F =  X**2 + 0.01*X**4 + Y**2 - Y - 0.6\n",
    "plt.contour(X,Y,F,[0])\n",
    "plt.show()"
   ]
  },
  {
   "cell_type": "code",
   "execution_count": null,
   "metadata": {
    "collapsed": true
   },
   "outputs": [],
   "source": [
    "def plotBoundary(mytheta, myX, myy, mylambda=0.):\n",
    "    \"\"\"\n",
    "    Function to plot the decision boundary for arbitrary theta, X, y, lambda value\n",
    "    Inside of this function is feature mapping, and the minimization routine.\n",
    "    It works by making a grid of x1 (\"xvals\") and x2 (\"yvals\") points,\n",
    "    And for each, computing whether the hypothesis classifies that point as\n",
    "    True or False. Then, a contour is drawn with a built-in pyplot function.\n",
    "    \"\"\"\n",
    "    theta, mincost = optimizeRegularizedTheta(mytheta,myX,myy,mylambda)\n",
    "    xvals = np.linspace(-1,1.5,50)\n",
    "    yvals = np.linspace(-1,1.5,50)\n",
    "    zvals = np.zeros((len(xvals),len(yvals)))\n",
    "    for i in xrange(len(xvals)):\n",
    "        for j in xrange(len(yvals)):\n",
    "            myfeaturesij = mapFeature(np.array([xvals[i]]),np.array([yvals[j]]))\n",
    "            zvals[i][j] = np.dot(theta,myfeaturesij.T)\n",
    "    zvals = zvals.transpose()\n",
    "\n",
    "    u, v = np.meshgrid( xvals, yvals )\n",
    "    mycontour = plt.contour( xvals, yvals, zvals, [0])\n",
    "    #Kind of a hacky way to display a text on top of the decision boundary\n",
    "    myfmt = { 0:'Lambda = %d'%mylambda}\n",
    "    plt.clabel(mycontour, inline=1, fontsize=15, fmt=myfmt)\n",
    "    plt.title(\"Decision Boundary\")"
   ]
  },
  {
   "cell_type": "code",
   "execution_count": 33,
   "metadata": {
    "collapsed": false
   },
   "outputs": [
    {
     "data": {
      "text/plain": [
       "array([-1.        , -0.97474747, -0.94949495, -0.92424242, -0.8989899 ,\n",
       "       -0.87373737, -0.84848485, -0.82323232, -0.7979798 , -0.77272727,\n",
       "       -0.74747475, -0.72222222, -0.6969697 , -0.67171717, -0.64646465,\n",
       "       -0.62121212, -0.5959596 , -0.57070707, -0.54545455, -0.52020202,\n",
       "       -0.49494949, -0.46969697, -0.44444444, -0.41919192, -0.39393939,\n",
       "       -0.36868687, -0.34343434, -0.31818182, -0.29292929, -0.26767677,\n",
       "       -0.24242424, -0.21717172, -0.19191919, -0.16666667, -0.14141414,\n",
       "       -0.11616162, -0.09090909, -0.06565657, -0.04040404, -0.01515152,\n",
       "        0.01010101,  0.03535354,  0.06060606,  0.08585859,  0.11111111,\n",
       "        0.13636364,  0.16161616,  0.18686869,  0.21212121,  0.23737374,\n",
       "        0.26262626,  0.28787879,  0.31313131,  0.33838384,  0.36363636,\n",
       "        0.38888889,  0.41414141,  0.43939394,  0.46464646,  0.48989899,\n",
       "        0.51515152,  0.54040404,  0.56565657,  0.59090909,  0.61616162,\n",
       "        0.64141414,  0.66666667,  0.69191919,  0.71717172,  0.74242424,\n",
       "        0.76767677,  0.79292929,  0.81818182,  0.84343434,  0.86868687,\n",
       "        0.89393939,  0.91919192,  0.94444444,  0.96969697,  0.99494949,\n",
       "        1.02020202,  1.04545455,  1.07070707,  1.0959596 ,  1.12121212,\n",
       "        1.14646465,  1.17171717,  1.1969697 ,  1.22222222,  1.24747475,\n",
       "        1.27272727,  1.2979798 ,  1.32323232,  1.34848485,  1.37373737,\n",
       "        1.3989899 ,  1.42424242,  1.44949495,  1.47474747,  1.5       ])"
      ]
     },
     "execution_count": 33,
     "metadata": {},
     "output_type": "execute_result"
    }
   ],
   "source": [
    "np.linspace(-1.0, 1.5, 100)"
   ]
  },
  {
   "cell_type": "code",
   "execution_count": 39,
   "metadata": {
    "collapsed": false
   },
   "outputs": [
    {
     "data": {
      "text/plain": [
       "(10, 10)"
      ]
     },
     "execution_count": 39,
     "metadata": {},
     "output_type": "execute_result"
    }
   ],
   "source": [
    "import numpy as np\n",
    "import matplotlib.pyplot as plt\n",
    "\n",
    "x = np.linspace(-1.0, 1.0, 10)\n",
    "y = np.linspace(-1.0, 1.0, 10)\n",
    "X, Y = np.meshgrid(x,y)\n",
    "X.shape"
   ]
  },
  {
   "cell_type": "code",
   "execution_count": null,
   "metadata": {
    "collapsed": true
   },
   "outputs": [],
   "source": []
  }
 ],
 "metadata": {
  "kernelspec": {
   "display_name": "Python 3",
   "language": "python",
   "name": "python3"
  },
  "language_info": {
   "codemirror_mode": {
    "name": "ipython",
    "version": 3
   },
   "file_extension": ".py",
   "mimetype": "text/x-python",
   "name": "python",
   "nbconvert_exporter": "python",
   "pygments_lexer": "ipython3",
   "version": "3.6.0"
  }
 },
 "nbformat": 4,
 "nbformat_minor": 2
}
