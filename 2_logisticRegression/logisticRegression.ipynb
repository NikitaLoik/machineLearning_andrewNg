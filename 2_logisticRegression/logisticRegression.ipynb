{
 "cells": [
  {
   "cell_type": "code",
   "execution_count": 1,
   "metadata": {
    "collapsed": true
   },
   "outputs": [],
   "source": [
    "import numpy as np\n",
    "\n",
    "import pandas as pd\n",
    "from pandas.tools.plotting import scatter_matrix\n",
    "\n",
    "import matplotlib.pyplot as plt\n",
    "import matplotlib\n",
    "matplotlib.style.use('ggplot')\n",
    "\n",
    "from scipy import optimize\n",
    "\n",
    "import csv\n",
    "\n",
    "import time"
   ]
  },
  {
   "cell_type": "markdown",
   "metadata": {},
   "source": [
    "# Univariate Logistic Regression"
   ]
  },
  {
   "cell_type": "code",
   "execution_count": 2,
   "metadata": {
    "collapsed": true
   },
   "outputs": [],
   "source": [
    "pathToDataFile = 'ex2data1.txt'"
   ]
  },
  {
   "cell_type": "markdown",
   "metadata": {},
   "source": [
    "# 1 Data Visualisation"
   ]
  },
  {
   "cell_type": "code",
   "execution_count": 3,
   "metadata": {
    "collapsed": false
   },
   "outputs": [
    {
     "name": "stdout",
     "output_type": "stream",
     "text": [
      "          x1         x2  y\n",
      "0  34.623660  78.024693  0\n",
      "1  30.286711  43.894998  0\n",
      "2  35.847409  72.902198  0\n",
      "3  60.182599  86.308552  1\n",
      "4  79.032736  75.344376  1\n",
      "sampleSize = 100 numVariables = 3\n"
     ]
    }
   ],
   "source": [
    "dataFrame = pd.read_csv(pathToDataFile, header = None, names = ['x1', 'x2', 'y'])\n",
    "sampleSize, numVariables = dataFrame.shape\n",
    "print(dataFrame.head())\n",
    "print (\"sampleSize =\", sampleSize, \"numVariables =\", numVariables)"
   ]
  },
  {
   "cell_type": "code",
   "execution_count": 4,
   "metadata": {
    "collapsed": false
   },
   "outputs": [
    {
     "data": {
      "image/png": "[encoded data removed]",
      "text/plain": [
       "<matplotlib.figure.Figure at 0x10f68d208>"
      ]
     },
     "metadata": {},
     "output_type": "display_data"
    }
   ],
   "source": [
    "x1 = dataFrame['x1']\n",
    "x2 = dataFrame['x2']\n",
    "colour = dataFrame['y']\n",
    "plt.scatter(x1, x2, c = colour)\n",
    "plt.xlabel('X1')\n",
    "plt.ylabel('X2')\n",
    "plt.show()"
   ]
  },
  {
   "cell_type": "markdown",
   "metadata": {},
   "source": [
    "# 2 Loading Data"
   ]
  },
  {
   "cell_type": "code",
   "execution_count": null,
   "metadata": {
    "collapsed": true
   },
   "outputs": [],
   "source": [
    "def getData(pathToDataFile):\n",
    "#     try wiht matrices as well\n",
    "    data = np.loadtxt(pathToDataFile, delimiter = ',')\n",
    "    sampleSize, numVariables = data.shape\n",
    "    X = np.insert(data[:, :-1], 0, 1, axis=1)\n",
    "    y = data[:, -1:]\n",
    "#     beta = np.matrix(np.zeros(numVariables)).T\n",
    "    beta = np.zeros((numVariables,1))\n",
    "    return beta, X, y"
   ]
  },
  {
   "cell_type": "code",
   "execution_count": null,
   "metadata": {
    "collapsed": false
   },
   "outputs": [],
   "source": [
    "\n",
    "\n",
    "def sigmoid(z):\n",
    "    return 1/(1 + np.exp(-z))\n",
    "\n",
    "def sigmoidHypothesis(betas, Xs):\n",
    "    return sigmoid(np.dot(Xs, betas))\n",
    "\n",
    "# def sigmoidCostFunction(Xs, Ys, betas):\n",
    "def sigmoidCostFunction(betas, Xs, Ys, iLambda = 0.):\n",
    "    sampleSize, numVariables = Xs.shape\n",
    "    Hs = sigmoidHypothesis(betas, Xs)\n",
    "#     cost = -np.sum(np.multiply(Ys, np.log(Hs)) + np.multiply((1-Ys), np.log(1-Hs)))/sampleSize\n",
    "#     cost = -np.sum(np.dot(Ys.T, np.log(Hs)) + np.dot((1-Ys).T, np.log(1-Hs)))/sampleSize\n",
    "    cost = (- np.dot(Ys.T, np.log(Hs)) - np.dot((1-Ys).T, np.log(1-Hs)))/sampleSize\n",
    "#     regularisation term (R)\n",
    "    R = iLambda*np.dot(betas[1:].T,betas[1:])/(2*sampleSize)\n",
    "    return cost + R\n",
    "#     return (cost.item(0))\n",
    "\n",
    "def optimisation (betas, Xs, Ys, iLambda=0.):\n",
    "    return optimize.fmin(sigmoidCostFunction, x0=betas, args=(Xs, Ys, iLambda), maxiter=1500, full_output=True)\n",
    "\n",
    "def plotRegression(Xs, Ys, betas):\n",
    "    X_1s = Xs[:, 1:2]\n",
    "    X_2s = Xs[:, 2:]\n",
    "    colour = Ys[:, 0:]\n",
    "    plt.scatter(X_1s, X_2s, c = colour)\n",
    "\n",
    "    fitX_2s = - betasFit[0]/betasFit[2] - X_1s*betasFit[1]/betasFit[2]\n",
    "    plt.plot(X_1s, fitX_2s, '-')\n",
    "    plt.xlabel('X1')\n",
    "    plt.ylabel('X2')\n",
    "\n",
    "    plt.show()\n",
    "    \n",
    "def estimate(betas, Xs):\n",
    "    return sigmoidHypothesis(betas, Xs) >= 0.5\n",
    "\n",
    "# add function to calculate the percentage of correct predictions\n",
    "\n",
    "def precisionANDrecal(betasFit, Xs, Ys):\n",
    "    #Divide the sample into two: ones with positive classification, one with null classification\n",
    "    positives = np.array([Xs[i] for i in range(Xs.shape[0]) if Ys[i] == 1])\n",
    "    negatives = np.array([Xs[i] for i in range(Xs.shape[0]) if Ys[i] == 0])\n",
    "    #Check to make sure I included all entries\n",
    "    # print (\"Included everything? \", (len(positives)+len(negatives) == Xs.shape[0]))\n",
    "    truePositives =  np.sum(estimate(betasFit, positives))\n",
    "    falsePositives = np.sum(estimate(betasFit, negatives))\n",
    "    falseNegatives = positives.shape[0] - np.sum(estimate(betasFit, positives))\n",
    "    precision  = truePositives/(truePositives+falsePositives)\n",
    "    recall  = truePositives/(truePositives+falseNegatives)\n",
    "    correctPredictions = (Xs.shape[0] - falsePositives - falseNegatives)/Xs.shape[0]\n",
    "    return print('Precision =', precision, '\\n', 'Recall =', recall, '\\n', 'Correct Predictions', correctPredictions)\n",
    "    "
   ]
  },
  {
   "cell_type": "code",
   "execution_count": null,
   "metadata": {
    "collapsed": false
   },
   "outputs": [],
   "source": [
    "Xs, Ys, betas = getData(pathToDataFile)\n",
    "# iLambda = 0\n",
    "betasFit = optimisation(betas, Xs, Ys)[0]"
   ]
  },
  {
   "cell_type": "code",
   "execution_count": null,
   "metadata": {
    "collapsed": false
   },
   "outputs": [],
   "source": [
    "precisionANDrecal(betasFit, Xs, Ys)"
   ]
  },
  {
   "cell_type": "markdown",
   "metadata": {},
   "source": [
    "http://www.johnwittenauer.net/tag/machine-learning/\n",
    "\n",
    "http://aimotion.blogspot.se/2011/11/machine-learning-with-python-logistic.html\n",
    "\n",
    "https://beckernick.github.io/logistic-regression-from-scratch/\n",
    "\n",
    "https://github.com/kaleko/CourseraML/blob/master/ex2/ex2.ipynb\n",
    "\n",
    "http://www.scipy-lectures.org/advanced/mathematical_optimization/"
   ]
  },
  {
   "cell_type": "markdown",
   "metadata": {
    "collapsed": true
   },
   "source": [
    "# Data Set II"
   ]
  },
  {
   "cell_type": "markdown",
   "metadata": {},
   "source": [
    "## 1.1 Data Visualisation"
   ]
  },
  {
   "cell_type": "code",
   "execution_count": null,
   "metadata": {
    "collapsed": false
   },
   "outputs": [],
   "source": [
    "pathToDataFile_2 = 'ex2data2.txt'\n",
    "dF_2 = pd.read_csv(pathToDataFile_2, header = None)\n",
    "sampleSize, numVariables = dF_2.shape\n",
    "print ('sampleSize =', sampleSize, 'numVariables =', numVariables)\n",
    "print (dF_2.head())"
   ]
  },
  {
   "cell_type": "code",
   "execution_count": null,
   "metadata": {
    "collapsed": false
   },
   "outputs": [],
   "source": [
    "X_1s = dF_2.iloc[:, :1]\n",
    "X_2s = dF_2.iloc[:, 1:2]\n",
    "colour = dF_2.iloc[:, 2:]\n",
    "plt.scatter(X_1s, X_2s, c = colour)\n",
    "plt.xlabel('X1')\n",
    "plt.ylabel('X2')\n",
    "plt.show()"
   ]
  },
  {
   "cell_type": "markdown",
   "metadata": {},
   "source": [
    "Fairly symple way to generate polynomial and interaction features<br\\>\n",
    "http://scikit-learn.org/stable/modules/generated/sklearn.preprocessing.PolynomialFeatures.html"
   ]
  },
  {
   "cell_type": "code",
   "execution_count": null,
   "metadata": {
    "collapsed": true
   },
   "outputs": [],
   "source": [
    "from sklearn.preprocessing import PolynomialFeatures"
   ]
  },
  {
   "cell_type": "code",
   "execution_count": null,
   "metadata": {
    "collapsed": true
   },
   "outputs": [],
   "source": [
    "def dataPreprocessing(pathToDataFile, polynomialDegree):\n",
    "#     try wiht matrices as well\n",
    "    data = np.loadtxt(pathToDataFile, delimiter = ',')\n",
    "    sampleSize, numVariables = data.shape\n",
    "    X = data[:, :-1]\n",
    "    y = data[:, -1:]\n",
    "    poly = PolynomialFeatures(polynomialDegree)\n",
    "    polyX = poly.fit_transform(X)\n",
    "    sampleSize, numVariables = polyX.shape\n",
    "    betas = np.zeros((numVariables,1))\n",
    "    return betas, polyX, y"
   ]
  },
  {
   "cell_type": "code",
   "execution_count": null,
   "metadata": {
    "collapsed": false
   },
   "outputs": [],
   "source": [
    "betas_2, X_2, y_2 = dataPreprocessing(pathToDataFile_2, 6)\n",
    "sigmoidCostFunction(betas_2, X_2, y_2, iLambda = 0.)"
   ]
  },
  {
   "cell_type": "code",
   "execution_count": null,
   "metadata": {
    "collapsed": false
   },
   "outputs": [],
   "source": [
    "optimisation(betas_2, X_2, y_2, iLambda = 0.)\n",
    "optimisation(betas_2, X_2, y_2, iLambda = 0.)[0]"
   ]
  },
  {
   "cell_type": "code",
   "execution_count": null,
   "metadata": {
    "collapsed": false
   },
   "outputs": [],
   "source": [
    "import numpy as np\n",
    "import matplotlib.pyplot as plt\n",
    "\n",
    "X_1s = np.linspace(-1.0, 1.5, 100)\n",
    "X_2s = np.linspace(-1.0, 1.5, 100)\n",
    "Ys = np.zeros((len(X_1s),len(X_2s)))\n",
    "for i in range(len(X_1s)):\n",
    "    for j in xrange(len(X_2s)):\n",
    "        myfeaturesij = mapFeature(np.array([xvals[i]]),np.array([yvals[j]]))\n",
    "        zvals[i][j] = np.dot(theta,myfeaturesij.T)\n",
    "zvals = zvals.transpose()\n",
    "\n",
    "X, Y = np.meshgrid(x,y)\n",
    "F =  X**2 + 0.01*X**4 + Y**2 - Y - 0.6\n",
    "plt.contour(X,Y,F,[0])\n",
    "plt.show()"
   ]
  },
  {
   "cell_type": "code",
   "execution_count": null,
   "metadata": {
    "collapsed": true
   },
   "outputs": [],
   "source": [
    "def plotBoundary(mytheta, myX, myy, mylambda=0.):\n",
    "    \"\"\"\n",
    "    Function to plot the decision boundary for arbitrary theta, X, y, lambda value\n",
    "    Inside of this function is feature mapping, and the minimization routine.\n",
    "    It works by making a grid of x1 (\"xvals\") and x2 (\"yvals\") points,\n",
    "    And for each, computing whether the hypothesis classifies that point as\n",
    "    True or False. Then, a contour is drawn with a built-in pyplot function.\n",
    "    \"\"\"\n",
    "    theta, mincost = optimizeRegularizedTheta(mytheta,myX,myy,mylambda)\n",
    "    xvals = np.linspace(-1,1.5,50)\n",
    "    yvals = np.linspace(-1,1.5,50)\n",
    "    zvals = np.zeros((len(xvals),len(yvals)))\n",
    "    for i in xrange(len(xvals)):\n",
    "        for j in xrange(len(yvals)):\n",
    "            myfeaturesij = mapFeature(np.array([xvals[i]]),np.array([yvals[j]]))\n",
    "            zvals[i][j] = np.dot(theta,myfeaturesij.T)\n",
    "    zvals = zvals.transpose()\n",
    "\n",
    "    u, v = np.meshgrid( xvals, yvals )\n",
    "    mycontour = plt.contour( xvals, yvals, zvals, [0])\n",
    "    #Kind of a hacky way to display a text on top of the decision boundary\n",
    "    myfmt = { 0:'Lambda = %d'%mylambda}\n",
    "    plt.clabel(mycontour, inline=1, fontsize=15, fmt=myfmt)\n",
    "    plt.title(\"Decision Boundary\")"
   ]
  },
  {
   "cell_type": "code",
   "execution_count": null,
   "metadata": {
    "collapsed": false
   },
   "outputs": [],
   "source": [
    "np.linspace(-1.0, 1.5, 100)"
   ]
  },
  {
   "cell_type": "code",
   "execution_count": null,
   "metadata": {
    "collapsed": false
   },
   "outputs": [],
   "source": [
    "import numpy as np\n",
    "import matplotlib.pyplot as plt\n",
    "\n",
    "x = np.linspace(-1.0, 1.0, 10)\n",
    "y = np.linspace(-1.0, 1.0, 10)\n",
    "X, Y = np.meshgrid(x,y)\n",
    "X.shape"
   ]
  },
  {
   "cell_type": "code",
   "execution_count": null,
   "metadata": {
    "collapsed": true
   },
   "outputs": [],
   "source": []
  }
 ],
 "metadata": {
  "kernelspec": {
   "display_name": "Python 3",
   "language": "python",
   "name": "python3"
  },
  "language_info": {
   "codemirror_mode": {
    "name": "ipython",
    "version": 3
   },
   "file_extension": ".py",
   "mimetype": "text/x-python",
   "name": "python",
   "nbconvert_exporter": "python",
   "pygments_lexer": "ipython3",
   "version": "3.6.0"
  }
 },
 "nbformat": 4,
 "nbformat_minor": 2
}
