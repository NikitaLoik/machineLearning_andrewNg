{
 "cells": [
  {
   "cell_type": "code",
   "execution_count": 1,
   "metadata": {
    "collapsed": false
   },
   "outputs": [],
   "source": [
    "import numpy as np\n",
    "\n",
    "from scipy.io import loadmat\n",
    "from scipy import optimize\n",
    "\n",
    "import pandas as pd\n",
    "\n",
    "# %matplotlib inline\n",
    "import matplotlib\n",
    "import matplotlib.pyplot as plt\n",
    "matplotlib.style.use('ggplot')\n",
    "\n",
    "from sklearn import svm"
   ]
  },
  {
   "cell_type": "code",
   "execution_count": 2,
   "metadata": {
    "collapsed": true
   },
   "outputs": [],
   "source": [
    "np.random.seed(0)"
   ]
  },
  {
   "cell_type": "code",
   "execution_count": 3,
   "metadata": {
    "collapsed": true
   },
   "outputs": [],
   "source": [
    "dataFile_1 = 'ex6data1.mat'\n",
    "dataFile_2 = 'ex6data2.mat'\n",
    "dataFile_3 = 'ex6data3.mat'"
   ]
  },
  {
   "cell_type": "code",
   "execution_count": 4,
   "metadata": {
    "collapsed": false
   },
   "outputs": [
    {
     "name": "stdout",
     "output_type": "stream",
     "text": [
      "<class 'dict'>\n",
      "<class 'dict'>\n",
      "<class 'dict'>\n",
      "dict_keys(['__header__', '__version__', '__globals__', 'X', 'y'])\n",
      "dict_keys(['__header__', '__version__', '__globals__', 'X', 'y'])\n",
      "dict_keys(['__header__', '__version__', '__globals__', 'X', 'y', 'yval', 'Xval'])\n",
      "(51, 2)\n",
      "(863, 2)\n",
      "(211, 2)\n",
      "<class 'numpy.ndarray'>\n",
      "(51, 1)\n",
      "(863, 1)\n",
      "(211, 1)\n",
      "[0 1]\n",
      "[0 1]\n",
      "[0 1]\n"
     ]
    }
   ],
   "source": [
    "data_1 = loadmat(dataFile_1)\n",
    "data_2 = loadmat(dataFile_2)\n",
    "data_3 = loadmat(dataFile_3)\n",
    "print(type(data_1))\n",
    "print(type(data_2))\n",
    "print(type(data_3))\n",
    "print(data_1.keys())\n",
    "print(data_2.keys())\n",
    "print(data_3.keys())\n",
    "print(data_1['X'].shape)\n",
    "print(data_2['X'].shape)\n",
    "print(data_3['X'].shape)\n",
    "print(type(data_1['X']))\n",
    "print(data_1['y'].shape)\n",
    "print(data_2['y'].shape)\n",
    "print(data_3['y'].shape)\n",
    "print(np.unique(data_1['y']))\n",
    "print(np.unique(data_2['y']))\n",
    "print(np.unique(data_3['y']))"
   ]
  },
  {
   "cell_type": "markdown",
   "metadata": {},
   "source": [
    "# 1 Support Vector Machine (the crazy bit of machine learning)"
   ]
  },
  {
   "cell_type": "markdown",
   "metadata": {},
   "source": [
    "## 1.1 Data Extraction and Transformation"
   ]
  },
  {
   "cell_type": "code",
   "execution_count": 5,
   "metadata": {
    "collapsed": true
   },
   "outputs": [],
   "source": [
    "def getData(dataFile, xLabel, yLabel):\n",
    "    data = loadmat(dataFile)\n",
    "    X = np.insert(data[xLabel], 0, 1, axis=1)\n",
    "    sampleSize, nVariables = X.shape\n",
    "    y = data[yLabel]\n",
    "    return X.flatten(), y.flatten(), sampleSize, nVariables\n",
    "\n",
    "def getBeta(nVariables):\n",
    "    beta = np.zeros(nVariables)\n",
    "    return beta"
   ]
  },
  {
   "cell_type": "code",
   "execution_count": 6,
   "metadata": {
    "collapsed": false
   },
   "outputs": [
    {
     "name": "stdout",
     "output_type": "stream",
     "text": [
      "(51, 3)\n",
      "(51, 1)\n",
      "(3, 1)\n"
     ]
    }
   ],
   "source": [
    "X, y, sampleSize, nVariables = getData(dataFile_1, 'X', 'y')\n",
    "beta = getBeta(nVariables)\n",
    "print(X.reshape(sampleSize, -1).shape)\n",
    "print(y.reshape(sampleSize, -1).shape)\n",
    "print(beta.reshape(nVariables, -1).shape)"
   ]
  },
  {
   "cell_type": "markdown",
   "metadata": {},
   "source": [
    "## 1.2 Data Visualisation"
   ]
  },
  {
   "cell_type": "code",
   "execution_count": 13,
   "metadata": {
    "collapsed": false
   },
   "outputs": [],
   "source": [
    "def visualiseData(dataFile, xLabel, yLabel, title):\n",
    "    X, y, sampleSize, nVariables = getData(dataFile, xLabel, yLabel)\n",
    "    plt.figure(figsize=(8,6))\n",
    "    plt.scatter(X.reshape(sampleSize, -1)[:,1:2],\n",
    "                X.reshape(sampleSize, -1)[:,2:],\n",
    "                c = y)\n",
    "    plt.title(title)\n",
    "    plt.xlabel(\"X1\")\n",
    "    plt.ylabel(\"X2\")\n",
    "    return plt.show()"
   ]
  },
  {
   "cell_type": "code",
   "execution_count": 14,
   "metadata": {
    "collapsed": false
   },
   "outputs": [
    {
     "data": {
      "image/png": "[encoded data removed]",
      "text/plain": [
       "<matplotlib.figure.Figure at 0x1184c0cf8>"
      ]
     },
     "metadata": {},
     "output_type": "display_data"
    }
   ],
   "source": [
    "visualiseData(dataFile_1, 'X', 'y', \"Data Set #1\")"
   ]
  },
  {
   "cell_type": "code",
   "execution_count": 9,
   "metadata": {
    "collapsed": false
   },
   "outputs": [],
   "source": [
    "# visualiseData(dataFile_2, 'X', 'y', \"Data Set #2\")"
   ]
  },
  {
   "cell_type": "code",
   "execution_count": 10,
   "metadata": {
    "collapsed": false
   },
   "outputs": [],
   "source": [
    "# visualiseData(dataFile_3, 'X', 'y', \"Data Set #3\")"
   ]
  },
  {
   "cell_type": "code",
   "execution_count": 11,
   "metadata": {
    "collapsed": false
   },
   "outputs": [],
   "source": [
    "# visualiseData(dataFile_3, 'Xval', 'yval', \"Validation Data Set #3\")"
   ]
  },
  {
   "cell_type": "markdown",
   "metadata": {},
   "source": [
    "## 1.2 Regularised Linear Regression"
   ]
  },
  {
   "cell_type": "code",
   "execution_count": 12,
   "metadata": {
    "collapsed": false
   },
   "outputs": [
    {
     "name": "stdout",
     "output_type": "stream",
     "text": [
      "SVC(C=1.0, cache_size=200, class_weight=None, coef0=0.0,\n",
      "  decision_function_shape=None, degree=3, gamma='auto', kernel='rbf',\n",
      "  max_iter=-1, probability=False, random_state=None, shrinking=True,\n",
      "  tol=0.001, verbose=False)\n"
     ]
    }
   ],
   "source": [
    "X, y, sampleSize, nVariables = getData(dataFile_1, 'X', 'y')\n",
    "linearSVM = svm.SVC()\n",
    "a = linearSVM.fit(X.reshape(sampleSize,-1), y)\n",
    "type(a)\n",
    "print(a)"
   ]
  },
  {
   "cell_type": "code",
   "execution_count": null,
   "metadata": {
    "collapsed": true
   },
   "outputs": [],
   "source": [
    "#Function to draw the SVM boundary\n",
    "def plotBoundary(my_svm, xmin, xmax, ymin, ymax):\n",
    "    \"\"\"\n",
    "    Function to plot the decision boundary for a trained SVM\n",
    "    It works by making a grid of x1 (\"xvals\") and x2 (\"yvals\") points,\n",
    "    And for each, computing whether the SVM classifies that point as\n",
    "    True or False. Then, a contour is drawn with a built-in pyplot function.\n",
    "    \"\"\"\n",
    "    xvals = np.linspace(xmin,xmax,100)\n",
    "    yvals = np.linspace(ymin,ymax,100)\n",
    "    zvals = np.zeros((len(xvals),len(yvals)))\n",
    "    for i in range(len(xvals)):\n",
    "        for j in range(len(yvals)):\n",
    "            zvals[i][j] = float(my_svm.predict(np.array([xvals[i],yvals[j]])))\n",
    "    zvals = zvals.transpose()\n",
    "\n",
    "    u, v = np.meshgrid( xvals, yvals )\n",
    "    mycontour = plt.contour( xvals, yvals, zvals, [0])\n",
    "    plt.title(\"Decision Boundary\")"
   ]
  }
 ],
 "metadata": {
  "kernelspec": {
   "display_name": "Python 3",
   "language": "python",
   "name": "python3"
  },
  "language_info": {
   "codemirror_mode": {
    "name": "ipython",
    "version": 3
   },
   "file_extension": ".py",
   "mimetype": "text/x-python",
   "name": "python",
   "nbconvert_exporter": "python",
   "pygments_lexer": "ipython3",
   "version": "3.6.0"
  }
 },
 "nbformat": 4,
 "nbformat_minor": 2
}
