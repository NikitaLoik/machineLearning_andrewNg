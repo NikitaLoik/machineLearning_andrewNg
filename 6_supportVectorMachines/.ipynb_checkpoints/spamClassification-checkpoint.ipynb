{
 "cells": [
  {
   "cell_type": "code",
   "execution_count": 1,
   "metadata": {
    "collapsed": true
   },
   "outputs": [],
   "source": [
    "import numpy as np\n",
    "\n",
    "import csv\n",
    "import string\n",
    "\n",
    "from scipy.io import loadmat\n",
    "from scipy import optimize\n",
    "\n",
    "import pandas as pd\n",
    "\n",
    "# %matplotlib inline\n",
    "import matplotlib\n",
    "import matplotlib.pyplot as plt\n",
    "matplotlib.style.use('ggplot')\n",
    "\n",
    "from sklearn import svm"
   ]
  },
  {
   "cell_type": "code",
   "execution_count": 62,
   "metadata": {
    "collapsed": true
   },
   "outputs": [],
   "source": [
    "spamTestFile = 'spamTest.mat'\n",
    "spamTrainFile = 'spamTrain.mat'\n",
    "\n",
    "eMail_1 = 'emailSample1.txt'\n",
    "eMail_2 = 'emailSample2.txt'\n",
    "spam_1 = 'spamSample1.txt'\n",
    "spam_2 = 'spamSample2.txt'"
   ]
  },
  {
   "cell_type": "code",
   "execution_count": 3,
   "metadata": {
    "collapsed": false
   },
   "outputs": [],
   "source": [
    "spamTestData = loadmat(spamTestFile)\n",
    "spamTrainData = loadmat(spamTestFile)"
   ]
  },
  {
   "cell_type": "code",
   "execution_count": 4,
   "metadata": {
    "collapsed": false
   },
   "outputs": [
    {
     "name": "stdout",
     "output_type": "stream",
     "text": [
      "dict_keys(['__header__', '__version__', '__globals__', 'Xtest', 'ytest'])\n",
      "(1000, 1899)\n",
      "(1000, 1)\n",
      "dict_keys(['__header__', '__version__', '__globals__', 'Xtest', 'ytest'])\n",
      "(1000, 1899)\n",
      "(1000, 1)\n"
     ]
    }
   ],
   "source": [
    "print (spamTrainData.keys())\n",
    "print (spamTrainData['Xtest'].shape)\n",
    "print (spamTrainData['ytest'].shape)\n",
    "print (spamTestData.keys())\n",
    "print (spamTestData['Xtest'].shape)\n",
    "print (spamTestData['ytest'].shape)"
   ]
  },
  {
   "cell_type": "markdown",
   "metadata": {},
   "source": [
    "# 1 Data Extraction and Transformation\n",
    "## 1.1 Import dictionary"
   ]
  },
  {
   "cell_type": "code",
   "execution_count": 49,
   "metadata": {
    "collapsed": false
   },
   "outputs": [],
   "source": [
    "def importVocab(vocabFile):\n",
    "    wordList = csv.reader(open(vocabFile), delimiter=\"\\t\")\n",
    "    vocab ={}\n",
    "    for row in wordList:\n",
    "        vocab[row[0]] = row[1]\n",
    "    return vocab"
   ]
  },
  {
   "cell_type": "markdown",
   "metadata": {},
   "source": [
    "## 1.2 Map Indeces onto e-Mails "
   ]
  },
  {
   "cell_type": "code",
   "execution_count": 50,
   "metadata": {
    "collapsed": true
   },
   "outputs": [],
   "source": [
    "def wordStemming(word):\n",
    "    wordSuffixes = ['e', 's', 'ed', 'ing']\n",
    "    for suffix in wordSuffixes:\n",
    "        if word.endswith(suffix):\n",
    "            return wordStemming(word[:-len(suffix)])\n",
    "    return word\n",
    "\n",
    "def preprocess_eMail(eMail_txt):\n",
    "    eMail = open(eMail_txt, 'r')\n",
    "    # converting to lower case and stripping the punctuation\n",
    "    wordList = [word.strip(string.punctuation).lower() for word in eMail.read().split()]\n",
    "    wordList.remove('')\n",
    "    for i, word in enumerate(wordList):\n",
    "    #     word stemming\n",
    "        wordList[i] = wordStemming(word)\n",
    "    #     normalise URLs\n",
    "        if 'http' in word or 'www' in word:\n",
    "            wordList[i] = 'httpaddr'\n",
    "    #     normalise eMail addresses\n",
    "        elif '@' in word:\n",
    "            wordList[i] = 'emailaddr'\n",
    "    #     normalise numbers\n",
    "        elif any(char.isdigit() for char in word):\n",
    "            wordList[i] = 'number'\n",
    "    #     normalise dollar sign\n",
    "        elif '$' in word:\n",
    "            wordList[i] = 'dollar'\n",
    "    return wordList\n",
    "\n",
    "def extractFeatures(vocabFile, eMail_txt):\n",
    "    vocab = importVocab(vocabFile)\n",
    "    invVocab = {v: int(k) for k, v in vocab.items()}\n",
    "    wordList = preprocess_eMail(eMail_txt)\n",
    "    wordIndexList = [invVocab[word] for word in wordList if word in invVocab]\n",
    "    uniqueIndex = list(set(wordIndexList))\n",
    "    eMailVector = np.zeros(len(vocab))\n",
    "    eMailVector[[uniqueIndex]] = 1\n",
    "    return eMailVector"
   ]
  },
  {
   "cell_type": "code",
   "execution_count": 63,
   "metadata": {
    "collapsed": false
   },
   "outputs": [
    {
     "data": {
      "text/plain": [
       "39.0"
      ]
     },
     "execution_count": 63,
     "metadata": {},
     "output_type": "execute_result"
    }
   ],
   "source": [
    "vocabFile = 'vocab.txt'\n",
    "np.sum(extractFeatures(vocabFile, eMail_1))"
   ]
  }
 ],
 "metadata": {
  "kernelspec": {
   "display_name": "Python 3",
   "language": "python",
   "name": "python3"
  },
  "language_info": {
   "codemirror_mode": {
    "name": "ipython",
    "version": 3
   },
   "file_extension": ".py",
   "mimetype": "text/x-python",
   "name": "python",
   "nbconvert_exporter": "python",
   "pygments_lexer": "ipython3",
   "version": "3.6.0"
  }
 },
 "nbformat": 4,
 "nbformat_minor": 2
}
