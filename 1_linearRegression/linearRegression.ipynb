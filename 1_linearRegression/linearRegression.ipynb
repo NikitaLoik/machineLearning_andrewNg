{
 "cells": [
  {
   "cell_type": "code",
   "execution_count": 1,
   "metadata": {
    "collapsed": true
   },
   "outputs": [],
   "source": [
    "import numpy as np\n",
    "\n",
    "import pandas as pd\n",
    "from pandas.tools.plotting import scatter_matrix\n",
    "\n",
    "import matplotlib.pyplot as plt\n",
    "import matplotlib\n",
    "matplotlib.style.use('ggplot')\n",
    "\n",
    "import time"
   ]
  },
  {
   "cell_type": "code",
   "execution_count": 2,
   "metadata": {
    "collapsed": false
   },
   "outputs": [],
   "source": [
    "pathToDataFile = 'ex1data1.txt'"
   ]
  },
  {
   "cell_type": "markdown",
   "metadata": {},
   "source": [
    "# 1 Data Visualisation"
   ]
  },
  {
   "cell_type": "code",
   "execution_count": 3,
   "metadata": {
    "collapsed": false
   },
   "outputs": [
    {
     "name": "stdout",
     "output_type": "stream",
     "text": [
      "sampleSize = 97 numVariables = 2\n",
      "        0        1\n",
      "0  6.1101  17.5920\n",
      "1  5.5277   9.1302\n",
      "2  8.5186  13.6620\n",
      "3  7.0032  11.8540\n",
      "4  5.8598   6.8233\n"
     ]
    }
   ],
   "source": [
    "dataFrame = pd.read_csv(pathToDataFile, header = None)\n",
    "sampleSize, numVariables = dataFrame.shape\n",
    "print (\"sampleSize =\", sampleSize, \"numVariables =\", numVariables)\n",
    "print (dataFrame.head())"
   ]
  },
  {
   "cell_type": "code",
   "execution_count": 4,
   "metadata": {
    "collapsed": false
   },
   "outputs": [
    {
     "data": {
      "image/png": "[encoded data removed]",
      "text/plain": [
       "<matplotlib.figure.Figure at 0x1166c6128>"
      ]
     },
     "metadata": {},
     "output_type": "display_data"
    }
   ],
   "source": [
    "Xs = dataFrame.iloc[:, :1]\n",
    "Ys = dataFrame.iloc[:, 1:2]\n",
    "plt.plot(Xs, Ys, 'o')\n",
    "plt.xlabel(\"X\")\n",
    "plt.ylabel(\"Y\")\n",
    "plt.show()"
   ]
  },
  {
   "cell_type": "markdown",
   "metadata": {},
   "source": [
    "# 2 Loading Data"
   ]
  },
  {
   "cell_type": "code",
   "execution_count": 5,
   "metadata": {
    "collapsed": true
   },
   "outputs": [],
   "source": [
    "def getData(pathToDataFile):\n",
    "    data = np.loadtxt(pathToDataFile, delimiter = ',')\n",
    "    sampleSize, numVariables = data.shape\n",
    "#     matrix of variables X(n, k), where n is sampleSize, and k is numVariables, including the intercept\n",
    "    X = np.insert(data[:, :-1], 0, 1, axis=1)\n",
    "#     vector of response y(n, 1), where n is sampleSize\n",
    "    y = data[:, -1:]\n",
    "#     vector of coefficients beta(k, 1), where k is numVariables, including the intercept\n",
    "    beta = np.zeros((numVariables,1))\n",
    "    return beta, X, y"
   ]
  },
  {
   "cell_type": "code",
   "execution_count": 6,
   "metadata": {
    "collapsed": false
   },
   "outputs": [],
   "source": [
    "beta, X, y = getData(pathToDataFile)"
   ]
  },
  {
   "cell_type": "markdown",
   "metadata": {},
   "source": [
    "# 3 Linear Regression"
   ]
  },
  {
   "cell_type": "markdown",
   "metadata": {},
   "source": [
    "## 3.1 Computing Parameters Analytically\n",
    "**Coefficient Matrix** can be calculated as follows \n",
    "$$\\beta = (X^T\\cdot X)^{-1}\\cdot X^T\\cdot y$$\n",
    "\n",
    "**X** is a matrix of variables with a first column of dummy variables as intercept (column of ones).\n",
    "**y** is a vector of responses.\n",
    "$\\theta$ is a vector of coefficients in the linear regression model."
   ]
  },
  {
   "cell_type": "code",
   "execution_count": 7,
   "metadata": {
    "collapsed": false
   },
   "outputs": [],
   "source": [
    "# Computing Parameters Analytically\n",
    "def linearRegression_analytical(X, y):\n",
    "#     beta vector (2, 1), vector of coefficients\n",
    "    beta = np.dot(np.dot(np.linalg.inv(np.dot(X.T, X)), X.T), y)\n",
    "    return beta"
   ]
  },
  {
   "cell_type": "markdown",
   "metadata": {},
   "source": [
    "## 3.2 Computing Parameters Using Gradient Descent & Linear Algebra\n",
    "\n",
    "### Vector Representation of the Regression Problem\n",
    "Variables matrix X:\n",
    "\\begin{equation*}\n",
    "X =\n",
    "\\begin{vmatrix}\n",
    "x_{1,1} & \\ldots & x_{1,j} \\\\\n",
    "\\ldots & \\ldots & \\ldots \\\\\n",
    "x_{n,1} & \\ldots & x_{n,j}\\\\\n",
    "\\end{vmatrix}\n",
    "\\end{equation*}\n",
    "\n",
    "Variables marix X, after adding a column of ones as intercepts:\n",
    "\\begin{equation*}\n",
    "X =\n",
    "\\begin{vmatrix}\n",
    "1 & x_{1,1} & \\ldots & x_{1,k} \\\\\n",
    "1 & \\ldots & \\ldots & \\ldots \\\\\n",
    "1 & x_{n,1}& \\ldots & x_{n,k}\\\\\n",
    "\\end{vmatrix}\n",
    "\\end{equation*}\n",
    "\n",
    "Response vector Y:\n",
    "\\begin{equation*}\n",
    "Y =\n",
    "\\begin{vmatrix}\n",
    "y_1\\\\\n",
    "\\ldots\\\\\n",
    "y_n\\\\\n",
    "\\end{vmatrix}\n",
    "\\end{equation*}\n",
    "\n",
    "Coefficients vector $\\beta$:\n",
    "\\begin{equation*}\n",
    "\\beta =\n",
    "\\begin{vmatrix}\n",
    "\\beta_1\\\\\n",
    "\\ldots\\\\\n",
    "\\beta_k\\\\\n",
    "\\end{vmatrix}\n",
    "\\end{equation*}\n",
    "\n",
    "**Hypothesis** $H_{\\beta}(X) =  X\\cdot\\beta$\n",
    "\n",
    "**Error** $E = (H_{\\beta}(X) - Y)$\n",
    "\n",
    "**Cost Function** $J = \\frac{\\sum(H_{\\beta} - Y)^{2}}{2N}$\n",
    "\n",
    "**Gradient** $G = X^{T}\\cdot E$\n"
   ]
  },
  {
   "cell_type": "code",
   "execution_count": 8,
   "metadata": {
    "collapsed": true
   },
   "outputs": [],
   "source": [
    "def hypothesis(beta, X):\n",
    "#     return hypothesis vector h(n, 1), where n is sampleSize\n",
    "    return np.dot(X, beta)\n",
    "\n",
    "def costFunction(beta, X, y):\n",
    "    sampleSize, numVariables = X.shape\n",
    "#     hypothesis vector h(n, 1)\n",
    "    h = hypothesis(beta, X)\n",
    "#     cost scalar J(1, 1) = (y-h).T, y-h)/(2*n), where n is sampleSize\n",
    "    J = np.sum((y-h)**2)/(2*sampleSize)\n",
    "#     similarly cost J can be calculated using dot-product\n",
    "#     J(1, 1) = (y-h).T, y-h)/(2*n), where n is sampleSize\n",
    "#     technically the result is an array (1,1) rather than a float\n",
    "#     J = np.dot((y-h).T, y-h)/(2*sampleSize)\n",
    "    return J\n",
    "\n",
    "def gradientDescent(beta, X, y, alpha, iterations):\n",
    "    sampleSize, numVariables = X.shape\n",
    "    J_history = []\n",
    "    for i in range(iterations):\n",
    "#         hypothesis vector h(n, 1)\n",
    "        h = hypothesis(beta, X)\n",
    "#         error vector e(n, 1)\n",
    "        e = h - y\n",
    "#         cost scalar J\n",
    "        J = costFunction(beta, X, y)\n",
    "#         gradient vector g(k, 1)\n",
    "        g = np.dot(X.T, e)\n",
    "#         updated beta vector beta(k, 1)\n",
    "        beta = beta - alpha*g/(sampleSize)\n",
    "#         updated J_history\n",
    "        J_history += [J] \n",
    "    return beta, J_history"
   ]
  },
  {
   "cell_type": "markdown",
   "metadata": {},
   "source": [
    "# 4 Results Visulisation & Analysis"
   ]
  },
  {
   "cell_type": "code",
   "execution_count": null,
   "metadata": {
    "collapsed": false
   },
   "outputs": [],
   "source": [
    "def plotRegression(beta, X, y):  \n",
    "#     yFit = betaFit[0][0] + betaFit[1][0]*X[:,1:]\n",
    "    yFit = np.dot(X,betaFit)\n",
    "    \n",
    "    MSE = np.sum((y - yFit)**2)/y.shape[0]\n",
    "    \n",
    "    plt.plot(X[:,1:], y, 'o', X[:,1:], yFit, '-')\n",
    "    plt.xlabel(\"X\")\n",
    "    plt.ylabel(\"Y\")\n",
    "    plt.show()\n",
    "    print (\"β_0:\", betaFit[0][0],\n",
    "           \"\\nβ_1:\", betaFit[1][0],\n",
    "           '\\nRegression: Y =\", '{:10.2f}'.format(betaFit[0][0]), '+', '{:10.2f}'.format(betaFit[1][0]), 'X'\n",
    "           '\\nMSE =','{:10.2f}'.format(MSE))\n",
    "    return plt.show()\n",
    "\n",
    "def plotConvergence(J_history, iterations):\n",
    "    plt.plot(np.arange(1, iterations + 1), J_history, '-')\n",
    "    plt.xlabel('iterations')\n",
    "    plt.ylabel('J (cost)')\n",
    "    plt.show()"
   ]
  },
  {
   "cell_type": "markdown",
   "metadata": {},
   "source": [
    "## 4.1 Analytical Approach"
   ]
  },
  {
   "cell_type": "code",
   "execution_count": null,
   "metadata": {
    "collapsed": false
   },
   "outputs": [],
   "source": [
    "betaFit = linearRegression_analytical(X, y)\n",
    "\n",
    "plotRegression(betaFit, X, y)"
   ]
  },
  {
   "cell_type": "markdown",
   "metadata": {},
   "source": [
    "## 4.2 Gradient-Descent Approach"
   ]
  },
  {
   "cell_type": "code",
   "execution_count": null,
   "metadata": {
    "collapsed": false
   },
   "outputs": [],
   "source": [
    "alpha = 0.01\n",
    "iterations = 1000\n",
    "\n",
    "betaFit = gradientDescent(beta, X, y, alpha, iterations)[0]\n",
    "plotRegression(betaFit, X, y)\n",
    "costVector = gradientDescent(beta, X, y, alpha, iterations)[1]\n",
    "plotConvergence(costVector, iterations)"
   ]
  },
  {
   "cell_type": "markdown",
   "metadata": {},
   "source": [
    "# Using Pandas"
   ]
  },
  {
   "cell_type": "markdown",
   "metadata": {},
   "source": [
    "### Import data via pd.read_csv"
   ]
  },
  {
   "cell_type": "code",
   "execution_count": null,
   "metadata": {
    "collapsed": false
   },
   "outputs": [],
   "source": [
    "pathToDataFile = 'ex1data1.txt'\n",
    "\n",
    "dataFrame = pd.read_csv(pathToDataFile, header = None, names = ['x', 'y'])\n",
    "nRows, nColumns = dataFrame.shape\n",
    "X = dataFrame['x']\n",
    "Y = dataFrame['y']\n",
    "\n",
    "# plt.plot(X, Y, 'o', ms = 5)\n",
    "# plt.xlabel('City Population (10 000)')\n",
    "# plt.ylabel('Profit ($10 000)')\n",
    "# plt.show()\n",
    "# print('Sample Size:', dataFrame.shape[0])"
   ]
  },
  {
   "cell_type": "code",
   "execution_count": null,
   "metadata": {
    "collapsed": false
   },
   "outputs": [],
   "source": [
    "# Computing Parameters Analytically\n",
    "\n",
    "variablesMatrix = dataFrame.loc[:, 'x':'x']\n",
    "variablesMatrix.insert(0, 'dummy_1', 1)\n",
    "responseVector = dataFrame.loc[:, 'y':'y']\n",
    "#print (variablesMatrix)\n",
    "print (type(variablesMatrix))\n",
    "print (variablesMatrix.shape)\n",
    "\n",
    "coefficientMatrix = np.dot(np.dot(np.linalg.inv(np.dot(variablesMatrix.T, variablesMatrix)), variablesMatrix.T), responseVector)\n",
    "print (coefficientMatrix)\n",
    "\n",
    "fitX = np.arange(5.0, 22.5, 0.5,)\n",
    "fitY = coefficientMatrix[0] + coefficientMatrix[1]*X\n",
    "\n",
    "plt.plot(X, Y, 'o', X, fitY, '-')\n",
    "plt.xlabel('City Population (10 000)')\n",
    "plt.ylabel('Profit ($10 000)')\n",
    "plt.show()\n",
    "\n",
    "print ('θ_0: ', coefficientMatrix[0][0],\n",
    "       '\\nθ_1: ', coefficientMatrix[1][0],\n",
    "      '\\nFit: Y =' '{:10.2f}'.format(coefficientMatrix[0][0]), '+', '{:10.2f}'.format(coefficientMatrix[1][0]), 'X')"
   ]
  },
  {
   "cell_type": "markdown",
   "metadata": {},
   "source": [
    "https://codereview.stackexchange.com/questions/171144/gradient-descent-for-linear-regression-using-numpy-pandas"
   ]
  },
  {
   "cell_type": "code",
   "execution_count": null,
   "metadata": {
    "collapsed": false
   },
   "outputs": [],
   "source": [
    "def getData (pathToDataFile):\n",
    "    dataFrame = pd.read_csv(pathToDataFile, header = None)\n",
    "    sampleSize, numVariables = dataFrame.shape\n",
    "    variables = dataFrame.iloc[:, :-1]\n",
    "    variables.insert(0, 'intercept', 1)\n",
    "    response = dataFrame.iloc[:, -1:]\n",
    "    coefficients = pd.DataFrame(np.ones((variables.shape[1],1)))\n",
    "    \n",
    "    return variables, response, coefficients\n",
    "\n",
    "def costFunction(variables, response, coefficients):\n",
    "    \"\"\"\n",
    "    costFunciton(variables, response, coefficients) computes the cost of using coefficients as the\n",
    "    parameter for linear regression to fit the data points\n",
    "    \"\"\"\n",
    "    sampleSize, numVariables = variables.shape\n",
    "    costFunction = ((np.sum((response-np.dot(variables, coefficients))**2))/(2*sampleSize))\n",
    "    return costFunction.values[0]\n",
    "\n",
    "def gradientDescent(variables, response, learningRate, iterations):\n",
    "    sampleSize, numVariables = variables.shape\n",
    "    coefficients = pd.DataFrame(np.zeros((numVariables,1)))\n",
    "    costVector = []\n",
    "    for i in range(iterations):\n",
    "        hypothesis = np.dot(variables, coefficients)\n",
    "        error = hypothesis - response\n",
    "        cost = costFunction(variables, response, coefficients)\n",
    "        gradient = np.dot(variables.T, error)\n",
    "        coefficients = coefficients - learningRate*gradient/(sampleSize)\n",
    "        costVector += [cost]\n",
    "    \n",
    "    return coefficients, costVector\n",
    "\n",
    "def plotRegression(variables, response, coefficients):\n",
    "    Xs = variables.iloc[:, 1:]\n",
    "    Ys = response.iloc[:, 0:]\n",
    "    fitYs = coefficients[0][0] + coefficients[0][1]*Xs\n",
    "    plt.plot(Xs, Ys, 'o', Xs, fitYs, '-')\n",
    "    plt.xlabel('X')\n",
    "    plt.ylabel('Y')\n",
    "    \n",
    "    print ('β_0: ', coefficients[0][0],\n",
    "           '\\nβ_1: ', coefficients[0][1],\n",
    "           '\\nRegression: Y =' '{:10.2f}'.format(coefficients[0][0]), '+', '{:10.2f}'.format(coefficients[0][1]), 'X')\n",
    "    return plt.show()\n",
    "\n",
    "    \n",
    "def plotCostFunctionVSiterations(costVector, iterations):\n",
    "    plt.plot(np.arange(1, iterations + 1), costVector, '-')\n",
    "    plt.xlabel('iterations')\n",
    "    plt.ylabel('cost (J)')\n",
    "    plt.show()"
   ]
  },
  {
   "cell_type": "code",
   "execution_count": null,
   "metadata": {
    "collapsed": false
   },
   "outputs": [],
   "source": [
    "pathToDataFile = 'ex1data1.txt'\n",
    "\n",
    "iterations = 1500\n",
    "learningRate = 0.01\n",
    "\n",
    "variables, response, coefficients = getData (pathToDataFile)\n",
    "coefficients, costVector = gradientDescent(variables, response, learningRate, iterations)\n",
    "\n",
    "plotRegression(variables, response, coefficients)\n",
    "# for learningRate in [0.00001, 0.0001, 0.001, 0.01, 0.1]:\n",
    "#     coefficients, costVector = gradientDescent(variables, response, learningRate, iterations)\n",
    "#     print ('Learning Rate =', str(learningRate),'\\nJ =', '{:10.2f}'.format(costVector[-1]))\n",
    "#     plotCostFunctionVSiterations(costVector, iterations)\n"
   ]
  },
  {
   "cell_type": "code",
   "execution_count": null,
   "metadata": {
    "collapsed": false
   },
   "outputs": [],
   "source": [
    "pathToDataFile = 'ex1data2.txt'\n",
    "variables_2, response_2, coefficients_2 = getData (pathToDataFile)\n",
    "\n",
    "gradientDescent(variables_2, response_2, 0.01, 1000)\n",
    "dataFrame_2 = pd.read_csv(pathToDataFile, header = None)\n",
    "scatter_matrix(dataFrame_2, figsize = (12, 8))\n",
    "plt.show()"
   ]
  },
  {
   "cell_type": "code",
   "execution_count": null,
   "metadata": {
    "collapsed": false
   },
   "outputs": [],
   "source": [
    "df = pd.DataFrame({'a' : [4,1,3], 'b' : [5,2,4]},index=[1,2,3])\n",
    "df"
   ]
  },
  {
   "cell_type": "code",
   "execution_count": null,
   "metadata": {
    "collapsed": false
   },
   "outputs": [],
   "source": [
    "s = pd.Series([0.6,0.4],index=['a','b'])\n",
    "s.shape"
   ]
  },
  {
   "cell_type": "code",
   "execution_count": null,
   "metadata": {
    "collapsed": false
   },
   "outputs": [],
   "source": [
    "df.dot(s)"
   ]
  },
  {
   "cell_type": "code",
   "execution_count": null,
   "metadata": {
    "collapsed": true
   },
   "outputs": [],
   "source": []
  }
 ],
 "metadata": {
  "kernelspec": {
   "display_name": "Python 3",
   "language": "python",
   "name": "python3"
  },
  "language_info": {
   "codemirror_mode": {
    "name": "ipython",
    "version": 3
   },
   "file_extension": ".py",
   "mimetype": "text/x-python",
   "name": "python",
   "nbconvert_exporter": "python",
   "pygments_lexer": "ipython3",
   "version": "3.6.0"
  }
 },
 "nbformat": 4,
 "nbformat_minor": 2
}
