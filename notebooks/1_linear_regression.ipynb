{
 "cells": [
  {
   "cell_type": "code",
   "execution_count": 1,
   "metadata": {},
   "outputs": [],
   "source": [
    "import numpy as np\n",
    "\n",
    "import pandas as pd\n",
    "# from pandas.tools.plotting import scatter_matrix\n",
    "\n",
    "import matplotlib\n",
    "import matplotlib.pyplot as plt\n",
    "matplotlib.style.use('ggplot')\n",
    "%matplotlib inline\n",
    "\n",
    "import time\n",
    "\n",
    "%load_ext autoreload\n",
    "%autoreload 2"
   ]
  },
  {
   "cell_type": "markdown",
   "metadata": {},
   "source": [
    "# 1 Univariate Linear Regression"
   ]
  },
  {
   "cell_type": "code",
   "execution_count": 2,
   "metadata": {},
   "outputs": [],
   "source": [
    "file_path_1 = '../course_materials/ex1data1.txt'"
   ]
  },
  {
   "cell_type": "markdown",
   "metadata": {},
   "source": [
    "## 1.1 Data Visualisation"
   ]
  },
  {
   "cell_type": "code",
   "execution_count": 3,
   "metadata": {},
   "outputs": [
    {
     "name": "stdout",
     "output_type": "stream",
     "text": [
      "\tsample # 97\n",
      "\tvariables # 2\n"
     ]
    },
    {
     "data": {
      "text/html": [
       "<div>\n",
       "<style scoped>\n",
       "    .dataframe tbody tr th:only-of-type {\n",
       "        vertical-align: middle;\n",
       "    }\n",
       "\n",
       "    .dataframe tbody tr th {\n",
       "        vertical-align: top;\n",
       "    }\n",
       "\n",
       "    .dataframe thead th {\n",
       "        text-align: right;\n",
       "    }\n",
       "</style>\n",
       "<table border=\"1\" class=\"dataframe\">\n",
       "  <thead>\n",
       "    <tr style=\"text-align: right;\">\n",
       "      <th></th>\n",
       "      <th>0</th>\n",
       "      <th>1</th>\n",
       "    </tr>\n",
       "  </thead>\n",
       "  <tbody>\n",
       "    <tr>\n",
       "      <th>0</th>\n",
       "      <td>6.1101</td>\n",
       "      <td>17.5920</td>\n",
       "    </tr>\n",
       "    <tr>\n",
       "      <th>1</th>\n",
       "      <td>5.5277</td>\n",
       "      <td>9.1302</td>\n",
       "    </tr>\n",
       "    <tr>\n",
       "      <th>2</th>\n",
       "      <td>8.5186</td>\n",
       "      <td>13.6620</td>\n",
       "    </tr>\n",
       "    <tr>\n",
       "      <th>3</th>\n",
       "      <td>7.0032</td>\n",
       "      <td>11.8540</td>\n",
       "    </tr>\n",
       "    <tr>\n",
       "      <th>4</th>\n",
       "      <td>5.8598</td>\n",
       "      <td>6.8233</td>\n",
       "    </tr>\n",
       "  </tbody>\n",
       "</table>\n",
       "</div>"
      ],
      "text/plain": [
       "        0        1\n",
       "0  6.1101  17.5920\n",
       "1  5.5277   9.1302\n",
       "2  8.5186  13.6620\n",
       "3  7.0032  11.8540\n",
       "4  5.8598   6.8233"
      ]
     },
     "execution_count": 3,
     "metadata": {},
     "output_type": "execute_result"
    }
   ],
   "source": [
    "df = pd.read_csv(file_path_1, header = None)\n",
    "n_samples, n_variables = df.shape\n",
    "print(f\"\\tsample # {n_samples}\\n\\tvariables # {n_variables}\")\n",
    "df.head()"
   ]
  },
  {
   "cell_type": "code",
   "execution_count": 4,
   "metadata": {},
   "outputs": [
    {
     "data": {
      "image/png": "[encoded data removed]",
      "text/plain": [
       "<Figure size 432x288 with 1 Axes>"
      ]
     },
     "metadata": {
      "needs_background": "light"
     },
     "output_type": "display_data"
    }
   ],
   "source": [
    "Xs = df.iloc[:, :1]\n",
    "Ys = df.iloc[:, 1:2]\n",
    "plt.plot(Xs, Ys, 'o')\n",
    "plt.xlabel(\"X\")\n",
    "plt.ylabel(\"Y\")\n",
    "plt.show()"
   ]
  },
  {
   "cell_type": "markdown",
   "metadata": {},
   "source": [
    "## 1.2 Data Extraction and Transformation"
   ]
  },
  {
   "cell_type": "code",
   "execution_count": 5,
   "metadata": {},
   "outputs": [],
   "source": [
    "def get_data(file_path):\n",
    "    data = np.loadtxt(file_path, delimiter = ',')\n",
    "    n_samples, n_variables = data.shape\n",
    "#     matrix of variables X(n, k), where n is n_samples, and k is n_variables, including the intercept\n",
    "    X = np.insert(data[:, :-1], 0, 1, axis=1)\n",
    "#     vector of response y(n, 1), where n is n_samples\n",
    "    y = data[:, -1:]\n",
    "#     vector of coefficients β(k, 1), where k is n_variables, including the intercept\n",
    "    β = np.zeros((n_variables,1))\n",
    "    return β, X, y"
   ]
  },
  {
   "cell_type": "code",
   "execution_count": 7,
   "metadata": {},
   "outputs": [],
   "source": [
    "β, X, y = get_data(file_path_1)"
   ]
  },
  {
   "cell_type": "markdown",
   "metadata": {},
   "source": [
    "## 1.3 Linear Regression"
   ]
  },
  {
   "cell_type": "markdown",
   "metadata": {},
   "source": [
    "### 1.3.1 Computing Parameters Analytically\n",
    "**Coefficient Matrix** can be calculated as follows \n",
    "$$\\beta = (X^T\\cdot X)^{-1}\\cdot X^T\\cdot y$$\n",
    "\n",
    "**X** is a matrix of variables with a first column of dummy variables as intercept (column of ones).\n",
    "**y** is a vector of responses.\n",
    "$\\theta$ is a vector of coefficients in the linear regression model."
   ]
  },
  {
   "cell_type": "code",
   "execution_count": 8,
   "metadata": {},
   "outputs": [],
   "source": [
    "# Computing Parameters Analytically\n",
    "def linear_regression_analytical(X, y):\n",
    "#     β vector (2, 1), vector of coefficients\n",
    "    β = np.dot(np.dot(np.linalg.inv(np.dot(X.T, X)), X.T), y)\n",
    "    return β"
   ]
  },
  {
   "cell_type": "markdown",
   "metadata": {},
   "source": [
    "### 1.3.2 Computing Parameters Using Gradient Descent & Linear Algebra\n",
    "\n",
    "#### Vector Representation of the Regression Problem\n",
    "Variables matrix X:\n",
    "$$\n",
    "X = \\begin{bmatrix}\n",
    "x_{1,1} & \\ldots & x_{1,j} \\\\\n",
    "\\ldots & \\ldots & \\ldots \\\\\n",
    "x_{n,1} & \\ldots & x_{n,j}\\\\\n",
    "\\end{bmatrix}\n",
    "$$\n",
    "\n",
    "Variables marix X, after adding a column of ones as intercepts:\n",
    "$$\n",
    "X = \\begin{bmatrix}\n",
    "1 & x_{1,1} & \\ldots & x_{1,k} \\\\\n",
    "1 & \\ldots & \\ldots & \\ldots \\\\\n",
    "1 & x_{n,1}& \\ldots & x_{n,k}\\\\\n",
    "\\end{bmatrix}\n",
    "$$\n",
    "\n",
    "Response vector Y:\n",
    "$$\n",
    "Y =\n",
    "\\begin{bmatrix}\n",
    "y_1\\\\\n",
    "\\ldots\\\\\n",
    "y_n\\\\\n",
    "\\end{bmatrix}\n",
    "$$\n",
    "\n",
    "Coefficients vector $\\beta$:\n",
    "$$\n",
    "\\beta =\n",
    "\\begin{bmatrix}\n",
    "\\beta_1\\\\\n",
    "\\ldots\\\\\n",
    "\\beta_k\\\\\n",
    "\\end{bmatrix}\n",
    "$$\n",
    "\n",
    "**Hypothesis** $h_{\\beta}(X) =  X\\cdot\\beta$\n",
    "\n",
    "**Error** $e = (h_{\\beta}(X) - y)$\n",
    "\n",
    "**Cost Function** $J = \\frac{1}{2n}{\\sum(h_{\\beta} - y)^2}$\n",
    "\n",
    "**Gradient** $\\frac{\\partial J}{\\partial \\beta} = \\frac{1}{n}X^{T}\\cdot e$<br\\>\n",
    "\n",
    "In the code $\\frac{\\partial J}{\\partial \\beta}$ is denoted symply as **g**.\n"
   ]
  },
  {
   "cell_type": "code",
   "execution_count": 9,
   "metadata": {},
   "outputs": [],
   "source": [
    "def get_hypothesis(β, X):\n",
    "#     return hypothesis vector h(n, 1), where n is n_samples\n",
    "    return np.dot(X, β)\n",
    "\n",
    "def cost_function(β, X, y):\n",
    "    n_samples, n_variables = X.shape\n",
    "#     hypothesis vector h(n, 1)\n",
    "    h = get_hypothesis(β, X)\n",
    "#     cost scalar J(1, 1)\n",
    "    J = np.sum((y-h)**2)/(2*n_samples)\n",
    "#     similarly, cost J can be calculated using dot-product\n",
    "#     J = np.dot((y-h).T, y-h)/(2*n_samples)\n",
    "#     technically, the result is an array (1,1) rather than a float\n",
    "    return J\n",
    "\n",
    "def get_gradient_descent(β, X, y, α, iterations):\n",
    "    n_samples, n_variables = X.shape\n",
    "    J_history = []\n",
    "    for i in range(iterations):\n",
    "#         hypothesis vector h(n, 1)\n",
    "        h = get_hypothesis(β, X)\n",
    "#         error vector e(n, 1)\n",
    "        e = h - y\n",
    "#         cost scalar J\n",
    "        J = cost_function(β, X, y)\n",
    "#         gradient vector g(k, 1)\n",
    "        g = np.dot(X.T, e)/(n_samples)\n",
    "#         updated β vector β(k, 1)\n",
    "        β = β - α*g\n",
    "#         updated J_history\n",
    "        J_history += [J] \n",
    "    return β, J_history"
   ]
  },
  {
   "cell_type": "markdown",
   "metadata": {},
   "source": [
    "## 1.4 Results Visulisation & Analysis"
   ]
  },
  {
   "cell_type": "code",
   "execution_count": 10,
   "metadata": {},
   "outputs": [],
   "source": [
    "def plot_regression(β, X, y):  \n",
    "#     y_fit = β_fit[0][0] + β_fit[1][0]*X[:,1:]\n",
    "    y_fit = np.dot(X,β_fit)\n",
    "    \n",
    "    MSE = np.sum((y - y_fit)**2)/y.shape[0]\n",
    "    \n",
    "    plt.plot(X[:,1:], y, 'o', X[:,1:], y_fit, '-')\n",
    "    plt.xlabel(\"X\")\n",
    "    plt.ylabel(\"Y\")\n",
    "    print (\n",
    "        f\"\\tβ_0 {β_fit[0][0]:.5f}\\n\",\n",
    "        f\"\\tβ_1 {β_fit[1][0]:.5f}\\n\",\n",
    "        f\"\\tY = {β_fit[0][0]:.2f} + {β_fit[1][0]:.2f} * X\\n\"\n",
    "        f\"\\tMSE {MSE:.2}\")\n",
    "    return plt.show()\n",
    "\n",
    "def plot_convergence(J_history, iterations):\n",
    "    plt.plot(np.arange(1, iterations + 1), J_history, '-')\n",
    "    plt.xlabel(\"iterations\")\n",
    "    plt.ylabel(\"J (cost)\")\n",
    "    plt.show()"
   ]
  },
  {
   "cell_type": "markdown",
   "metadata": {},
   "source": [
    "### 1.4.1 Analytical Approach"
   ]
  },
  {
   "cell_type": "code",
   "execution_count": 11,
   "metadata": {},
   "outputs": [
    {
     "name": "stdout",
     "output_type": "stream",
     "text": [
      "\tβ_0 -3.89578\n",
      " \tβ_1 1.19303\n",
      " \tY = -3.90 + 1.19 * X\n",
      "\tMSE 9.0\n"
     ]
    },
    {
     "data": {
      "image/png": "[encoded data removed]",
      "text/plain": [
       "<Figure size 432x288 with 1 Axes>"
      ]
     },
     "metadata": {
      "needs_background": "light"
     },
     "output_type": "display_data"
    }
   ],
   "source": [
    "β_fit = linear_regression_analytical(X, y)\n",
    "plot_regression(β_fit, X, y)"
   ]
  },
  {
   "cell_type": "markdown",
   "metadata": {},
   "source": [
    "### 1.4.2 Gradient-Descent Approach"
   ]
  },
  {
   "cell_type": "code",
   "execution_count": 13,
   "metadata": {},
   "outputs": [
    {
     "name": "stdout",
     "output_type": "stream",
     "text": [
      "\tβ_0 -3.24140\n",
      " \tβ_1 1.12729\n",
      " \tY = -3.24 + 1.13 * X\n",
      "\tMSE 9.0\n"
     ]
    },
    {
     "data": {
      "image/png": "[encoded data removed]",
      "text/plain": [
       "<Figure size 432x288 with 1 Axes>"
      ]
     },
     "metadata": {
      "needs_background": "light"
     },
     "output_type": "display_data"
    },
    {
     "data": {
      "image/png": "[encoded data removed]",
      "text/plain": [
       "<Figure size 432x288 with 1 Axes>"
      ]
     },
     "metadata": {
      "needs_background": "light"
     },
     "output_type": "display_data"
    }
   ],
   "source": [
    "# setting learning rate (α)\n",
    "α = 0.01\n",
    "iterations = 1000\n",
    "\n",
    "β_fit = get_gradient_descent(β, X, y, α, iterations)[0]\n",
    "plot_regression(β_fit, X, y)\n",
    "costVector = get_gradient_descent(β, X, y, α, iterations)[1]\n",
    "plot_convergence(costVector, iterations)"
   ]
  },
  {
   "cell_type": "code",
   "execution_count": 15,
   "metadata": {},
   "outputs": [
    {
     "name": "stderr",
     "output_type": "stream",
     "text": [
      "/Users/nikita/Documents/andrew-ng-2-python/.venv_andrew_ng_2_python/lib/python3.7/site-packages/numpy/core/fromnumeric.py:90: RuntimeWarning: overflow encountered in reduce\n",
      "  return ufunc.reduce(obj, axis, dtype, out, **passkwargs)\n",
      "/Users/nikita/Documents/andrew-ng-2-python/.venv_andrew_ng_2_python/lib/python3.7/site-packages/ipykernel_launcher.py:10: RuntimeWarning: overflow encountered in square\n",
      "  # Remove the CWD from sys.path while we load stuff.\n",
      "/Users/nikita/Documents/andrew-ng-2-python/.venv_andrew_ng_2_python/lib/python3.7/site-packages/ipykernel_launcher.py:29: RuntimeWarning: invalid value encountered in subtract\n"
     ]
    },
    {
     "name": "stdout",
     "output_type": "stream",
     "text": [
      "[28.10934410357117, 10.199564153888034, 5.859428582746157, 5.4412597614266875, 4.503182748795932, nan]\n"
     ]
    },
    {
     "data": {
      "image/png": "[encoded data removed]",
      "text/plain": [
       "<Figure size 432x288 with 1 Axes>"
      ]
     },
     "metadata": {
      "needs_background": "light"
     },
     "output_type": "display_data"
    }
   ],
   "source": [
    "iterations = 1000\n",
    "J = []\n",
    "for α in [0.000001, 0.00001, 0.0001, 0.001, 0.01, 0.1]:\n",
    "    β, J_history = get_gradient_descent(β, X, y, α, iterations)\n",
    "    J += [J_history[-1]]\n",
    "print (J)\n",
    "plt.plot([0.000001, 0.00001, 0.0001, 0.001, 0.01, 0.1], J, 'o-')\n",
    "plt.xlabel(\"α\")\n",
    "plt.ylabel(\"J\")\n",
    "plt.show()\n",
    "# print (f\"α = {α}\",f\"J = {J_history[-1]}\")\n",
    "# plotcost_functionVSiterations(J_history, iterations)"
   ]
  },
  {
   "cell_type": "markdown",
   "metadata": {},
   "source": [
    "## 1.5 Data Import & Manipulation Using Pandas\n",
    "https://codereview.stackexchange.com/questions/171144/gradient-descent-for-linear-regression-using-numpy-pandas<br\\>\n",
    "http://anwarruff.com/the-linear-regression-cost-function-in-matrix-form/"
   ]
  },
  {
   "cell_type": "markdown",
   "metadata": {},
   "source": [
    "### 1.5.1 Data Extraction and Transformation Using Pandas"
   ]
  },
  {
   "cell_type": "code",
   "execution_count": 17,
   "metadata": {},
   "outputs": [
    {
     "name": "stdout",
     "output_type": "stream",
     "text": [
      "samples # 97\n"
     ]
    }
   ],
   "source": [
    "def data2df(file_path):\n",
    "    df = pd.read_csv(\n",
    "        file_path,\n",
    "        header=None,\n",
    "        names=['x1', 'y'])\n",
    "    df.insert(0, 'x0', 1)\n",
    "    nRows, nColumns = df.shape\n",
    "    X = df[['x0','x1']]\n",
    "    y = df[['y']]\n",
    "    β = pd.DataFrame(np.zeros(X.shape[1]), columns = ['β'])\n",
    "    return β, X, y\n",
    "\n",
    "β_pd, X_pd, y_pd = data2df(file_path_1)\n",
    "\n",
    "X_pd.head()\n",
    "y_pd.head()\n",
    "β_pd.head()\n",
    "print(f\"samples # {X_pd.shape[0]}\")"
   ]
  },
  {
   "cell_type": "code",
   "execution_count": 18,
   "metadata": {},
   "outputs": [
    {
     "data": {
      "image/png": "[encoded data removed]",
      "text/plain": [
       "<Figure size 432x288 with 1 Axes>"
      ]
     },
     "metadata": {
      "needs_background": "light"
     },
     "output_type": "display_data"
    }
   ],
   "source": [
    "plt.plot(X_pd['x1'], y_pd, 'o', ms = 5)\n",
    "plt.xlabel('X')\n",
    "plt.ylabel('Y')\n",
    "plt.show()"
   ]
  },
  {
   "cell_type": "code",
   "execution_count": 19,
   "metadata": {},
   "outputs": [],
   "source": [
    "def plot_regression_pd(β, X, y):\n",
    "#     y_fit = β_fit[0][0] + β_fit[1][0]*X[:,1:]\n",
    "    y_fit = np.dot(X,β_fit)\n",
    "    MSE = np.sum((y - y_fit)**2)/y_pd.shape[0]\n",
    "\n",
    "    plt.plot(X['x1'], y, 'o', X['x1'], y_fit, '-')\n",
    "    plt.xlabel(\"X\")\n",
    "    plt.ylabel(\"Y\")\n",
    "    print (f\"\\tβ_0 {β_fit[0][0]:.5f}\\n\",\n",
    "           f\"\\tβ_1 {β_fit[1][0]:.5f}\\n\",\n",
    "           f\"\\tY = {β_fit[0][0]:.2f} + {β_fit[1][0]:.2f} * X\\n\"\n",
    "           f\"\\tMSE {MSE[0]:.2f}\"\n",
    "          )\n",
    "    return plt.show()"
   ]
  },
  {
   "cell_type": "markdown",
   "metadata": {},
   "source": [
    "### 1.5.2 Analytical Approach Using Pandas"
   ]
  },
  {
   "cell_type": "code",
   "execution_count": 20,
   "metadata": {},
   "outputs": [
    {
     "name": "stdout",
     "output_type": "stream",
     "text": [
      "\tβ_0 -3.24140\n",
      " \tβ_1 1.12729\n",
      " \tY = -3.24 + 1.13 * X\n",
      "\tMSE 9.03\n"
     ]
    },
    {
     "data": {
      "image/png": "[encoded data removed]",
      "text/plain": [
       "<Figure size 432x288 with 1 Axes>"
      ]
     },
     "metadata": {
      "needs_background": "light"
     },
     "output_type": "display_data"
    }
   ],
   "source": [
    "β_fit_pd = linear_regression_analytical(X_pd, y_pd)\n",
    "plot_regression_pd(β_fit_pd, X_pd, y_pd)"
   ]
  },
  {
   "cell_type": "markdown",
   "metadata": {},
   "source": [
    "### 1.5.3 Gradient-Descent Approach Using Pandas"
   ]
  },
  {
   "cell_type": "code",
   "execution_count": 22,
   "metadata": {},
   "outputs": [
    {
     "name": "stdout",
     "output_type": "stream",
     "text": [
      "\tβ_0 -3.24140\n",
      " \tβ_1 1.12729\n",
      " \tY = -3.24 + 1.13 * X\n",
      "\tMSE 9.03\n"
     ]
    },
    {
     "data": {
      "image/png": "[encoded data removed]",
      "text/plain": [
       "<Figure size 432x288 with 1 Axes>"
      ]
     },
     "metadata": {
      "needs_background": "light"
     },
     "output_type": "display_data"
    }
   ],
   "source": [
    "α = 0.01\n",
    "iterations = 1000\n",
    "\n",
    "β_fit_pd = get_gradient_descent(β_pd, X_pd, y_pd, α, iterations)\n",
    "plot_regression_pd(β_fit_pd[0], X_pd, y_pd)\n",
    "# costVector = gradient_descent(β, X, y, α, iterations)[1]\n",
    "# plot_convergence(costVector, iterations)"
   ]
  },
  {
   "cell_type": "markdown",
   "metadata": {},
   "source": [
    "# 2 Multivariate Linear Regression"
   ]
  },
  {
   "cell_type": "code",
   "execution_count": 23,
   "metadata": {},
   "outputs": [],
   "source": [
    "file_path = '../course_materials/ex1data2.txt'"
   ]
  },
  {
   "cell_type": "markdown",
   "metadata": {},
   "source": [
    "## 2.1 Data Extraction and Transformation"
   ]
  },
  {
   "cell_type": "code",
   "execution_count": 25,
   "metadata": {},
   "outputs": [
    {
     "name": "stdout",
     "output_type": "stream",
     "text": [
      "samples # 47\n"
     ]
    }
   ],
   "source": [
    "df = pd.read_csv(file_path, header = None, names = ['x1', 'x2', 'y'])\n",
    "df.insert(0, 'x0', 1)\n",
    "nRows, nColumns = df.shape\n",
    "X = df[['x0','x1', 'x2']]\n",
    "y = df[['y']]\n",
    "β_pd = pd.DataFrame(np.zeros(X.shape[1]), columns = ['β'])\n",
    "\n",
    "df.head()\n",
    "X.head()\n",
    "y.head()\n",
    "β_pd.head()\n",
    "print(f\"samples # {df.shape[0]}\")"
   ]
  },
  {
   "cell_type": "code",
   "execution_count": null,
   "metadata": {},
   "outputs": [],
   "source": []
  }
 ],
 "metadata": {
  "kernelspec": {
   "display_name": "venv_andrew_ng_2_python",
   "language": "python",
   "name": "venv_andrew_ng_2_python"
  },
  "language_info": {
   "codemirror_mode": {
    "name": "ipython",
    "version": 3
   },
   "file_extension": ".py",
   "mimetype": "text/x-python",
   "name": "python",
   "nbconvert_exporter": "python",
   "pygments_lexer": "ipython3",
   "version": "3.7.5"
  }
 },
 "nbformat": 4,
 "nbformat_minor": 2
}
