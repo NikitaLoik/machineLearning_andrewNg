{
 "cells": [
  {
   "cell_type": "code",
   "execution_count": 48,
   "metadata": {
    "collapsed": false
   },
   "outputs": [],
   "source": [
    "import numpy as np\n",
    "\n",
    "from scipy.io import loadmat\n",
    "from scipy import optimize\n",
    "\n",
    "import pandas as pd\n",
    "\n",
    "%matplotlib inline\n",
    "import matplotlib\n",
    "matplotlib.style.use('ggplot')\n",
    "import matplotlib.pyplot as plt\n",
    "import matplotlib.image as mpimg\n",
    "from matplotlib.image import NonUniformImage\n",
    "from matplotlib import cm"
   ]
  },
  {
   "cell_type": "code",
   "execution_count": 49,
   "metadata": {
    "collapsed": true
   },
   "outputs": [],
   "source": [
    "pathToDataFile = 'ex5data1.mat'"
   ]
  },
  {
   "cell_type": "code",
   "execution_count": 50,
   "metadata": {
    "collapsed": false
   },
   "outputs": [
    {
     "name": "stdout",
     "output_type": "stream",
     "text": [
      "<class 'dict'>\n",
      "dict_keys(['__header__', '__version__', '__globals__', 'X', 'y', 'Xtest', 'ytest', 'Xval', 'yval'])\n",
      "(12, 1)\n",
      "<class 'numpy.ndarray'>\n",
      "(12, 1)\n"
     ]
    }
   ],
   "source": [
    "data = loadmat(pathToDataFile)\n",
    "print(type(data))\n",
    "print(data.keys())\n",
    "print(data['X'].shape)\n",
    "print(type(data['X']))\n",
    "print(data['y'].shape)"
   ]
  },
  {
   "cell_type": "markdown",
   "metadata": {},
   "source": [
    "# 1 Regularised Linear Regression"
   ]
  },
  {
   "cell_type": "markdown",
   "metadata": {},
   "source": [
    "## 1.1 Data Extraction and Transformation"
   ]
  },
  {
   "cell_type": "code",
   "execution_count": 68,
   "metadata": {
    "collapsed": false
   },
   "outputs": [],
   "source": [
    "def getData(pathToDataFile, x_heading, y_heading):\n",
    "    data = loadmat(pathToDataFile)\n",
    "    dataFrame = pd.DataFrame({'x1':data[x_heading].flatten(), 'y':data[y_heading].flatten()})\n",
    "    dataFrame.insert(0, 'x0', 1)\n",
    "    nRows, nColumns = dataFrame.shape\n",
    "    X = dataFrame[['x0','x1']]\n",
    "    y = dataFrame[['y']]\n",
    "    beta = pd.DataFrame(np.zeros(X.shape[1]), columns = ['beta'])\n",
    "    return beta, X, y\n"
   ]
  },
  {
   "cell_type": "markdown",
   "metadata": {},
   "source": [
    "## 1.2 Data Visualisation"
   ]
  },
  {
   "cell_type": "markdown",
   "metadata": {},
   "source": [
    "### 1.2.1 Training Set"
   ]
  },
  {
   "cell_type": "code",
   "execution_count": 72,
   "metadata": {
    "collapsed": false
   },
   "outputs": [
    {
     "data": {
      "image/png": "[encoded data removed]",
      "text/plain": [
       "<matplotlib.figure.Figure at 0x11a0a3588>"
      ]
     },
     "metadata": {},
     "output_type": "display_data"
    },
    {
     "name": "stdout",
     "output_type": "stream",
     "text": [
      "(12, 2)\n"
     ]
    }
   ],
   "source": [
    "beta, X, y = getData(pathToDataFile, 'X', 'y')\n",
    "plt.plot(X['x1'], y, 'o')\n",
    "plt.show()\n",
    "print (X.shape)"
   ]
  },
  {
   "cell_type": "markdown",
   "metadata": {},
   "source": [
    "### 1.2.2 Validation Set"
   ]
  },
  {
   "cell_type": "code",
   "execution_count": 75,
   "metadata": {
    "collapsed": false
   },
   "outputs": [
    {
     "data": {
      "image/png": "[encoded data removed]",
      "text/plain": [
       "<matplotlib.figure.Figure at 0x11a58f6d8>"
      ]
     },
     "metadata": {},
     "output_type": "display_data"
    },
    {
     "name": "stdout",
     "output_type": "stream",
     "text": [
      "(21, 2)\n"
     ]
    }
   ],
   "source": [
    "beta, X_val, y_val = getData(pathToDataFile, 'Xval', 'yval')\n",
    "plt.plot(X_val['x1'], y_val, 'o')\n",
    "plt.show()\n",
    "print (X_val.shape)"
   ]
  },
  {
   "cell_type": "markdown",
   "metadata": {},
   "source": [
    "### 1.2.3 Test Set"
   ]
  },
  {
   "cell_type": "code",
   "execution_count": 76,
   "metadata": {
    "collapsed": false
   },
   "outputs": [
    {
     "data": {
      "image/png": "[encoded data removed]",
      "text/plain": [
       "<matplotlib.figure.Figure at 0x119deb748>"
      ]
     },
     "metadata": {},
     "output_type": "display_data"
    },
    {
     "name": "stdout",
     "output_type": "stream",
     "text": [
      "(21, 2)\n"
     ]
    }
   ],
   "source": [
    "beta, X_test, y_test = getData(pathToDataFile, 'Xtest', 'ytest')\n",
    "plt.plot(X_test['x1'], y_test, 'o')\n",
    "plt.show()\n",
    "print (X_test.shape)"
   ]
  },
  {
   "cell_type": "markdown",
   "metadata": {},
   "source": [
    "## 1.3 Regularised Linear Regression\n",
    "\n",
    "**Hypothesis** $h_{\\beta}(X) =  X\\cdot\\beta$\n",
    "\n",
    "**Error** $e = (h_{\\beta}(X) - y)$\n",
    "\n",
    "**Cost Function** $J = \\frac{1}{2n}{\\sum(h_{\\beta} - y)^2}$\n",
    "\n",
    "**Regularisation Term** $R = \\frac{\\lambda}{2n}{\\sum{\\beta}^2}$\n",
    "\n",
    "**Regularised Cost** $J = \\frac{1}{2n}{\\sum(h_{\\beta} - y)^2} + \\frac{\\lambda}{2n}{\\sum{\\beta}^2}$\n",
    "\n",
    "**Gradient** $\\frac{\\partial J}{\\partial \\beta _0} = \\frac{1}{n}X^{T}\\cdot e$<br\\>\n",
    "$\\frac{\\partial J}{\\partial \\beta _{≠0}} = \\frac{1}{n}X^{T}\\cdot e + \\frac{\\lambda}{n}\\beta$<br\\>\n",
    "\n",
    "In the code $\\frac{\\partial J}{\\partial \\beta}$ is denoted symply as **g**."
   ]
  },
  {
   "cell_type": "code",
   "execution_count": null,
   "metadata": {
    "collapsed": true
   },
   "outputs": [],
   "source": []
  }
 ],
 "metadata": {
  "kernelspec": {
   "display_name": "Python 3",
   "language": "python",
   "name": "python3"
  },
  "language_info": {
   "codemirror_mode": {
    "name": "ipython",
    "version": 3
   },
   "file_extension": ".py",
   "mimetype": "text/x-python",
   "name": "python",
   "nbconvert_exporter": "python",
   "pygments_lexer": "ipython3",
   "version": "3.6.0"
  }
 },
 "nbformat": 4,
 "nbformat_minor": 2
}
