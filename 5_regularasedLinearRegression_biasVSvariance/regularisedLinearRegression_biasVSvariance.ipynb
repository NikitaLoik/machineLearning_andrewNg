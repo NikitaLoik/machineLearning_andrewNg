{
 "cells": [
  {
   "cell_type": "code",
   "execution_count": 1,
   "metadata": {
    "collapsed": false
   },
   "outputs": [],
   "source": [
    "import numpy as np\n",
    "\n",
    "from scipy.io import loadmat\n",
    "from scipy import optimize\n",
    "\n",
    "import pandas as pd\n",
    "\n",
    "%matplotlib inline\n",
    "import matplotlib\n",
    "matplotlib.style.use('ggplot')\n",
    "import matplotlib.pyplot as plt\n",
    "import matplotlib.image as mpimg\n",
    "from matplotlib.image import NonUniformImage\n",
    "from matplotlib import cm"
   ]
  },
  {
   "cell_type": "code",
   "execution_count": 2,
   "metadata": {
    "collapsed": true
   },
   "outputs": [],
   "source": [
    "pathToDataFile = 'ex5data1.mat'"
   ]
  },
  {
   "cell_type": "code",
   "execution_count": 3,
   "metadata": {
    "collapsed": false
   },
   "outputs": [
    {
     "name": "stdout",
     "output_type": "stream",
     "text": [
      "<class 'dict'>\n",
      "dict_keys(['__header__', '__version__', '__globals__', 'X', 'y', 'Xtest', 'ytest', 'Xval', 'yval'])\n",
      "(12, 1)\n",
      "<class 'numpy.ndarray'>\n",
      "(12, 1)\n"
     ]
    }
   ],
   "source": [
    "data = loadmat(pathToDataFile)\n",
    "print(type(data))\n",
    "print(data.keys())\n",
    "print(data['X'].shape)\n",
    "print(type(data['X']))\n",
    "print(data['y'].shape)\n"
   ]
  },
  {
   "cell_type": "markdown",
   "metadata": {},
   "source": [
    "# 1 Regularised Linear Regression"
   ]
  },
  {
   "cell_type": "markdown",
   "metadata": {},
   "source": [
    "## 1.1 Data Extraction and Transformation"
   ]
  },
  {
   "cell_type": "code",
   "execution_count": 21,
   "metadata": {
    "collapsed": false
   },
   "outputs": [],
   "source": [
    "def flattenBetaX(beta, X):\n",
    "    flatX = beta.flatten()\n",
    "    flatX = X.flatten()\n",
    "    return flatX\n",
    "\n",
    "def reshapeBetaXy(flatBeta, flatX, flaty, sampleSize):\n",
    "    reshapedBeta = flatBeta.reshape(int(X.size/sampleSize), -1)\n",
    "    reshapedX = flatX.reshape(sampleSize, -1)\n",
    "    reshapedy = flaty.reshape(sampleSize, -1)\n",
    "    return reshapedBeta, reshapedX, reshapedy\n",
    "\n",
    "# def getData(pathToDataFile, x_heading, y_heading):\n",
    "#     data = loadmat(pathToDataFile)\n",
    "#     dataFrame = pd.DataFrame({'x1':data[x_heading].flatten(), 'y':data[y_heading].flatten()})\n",
    "#     dataFrame.insert(0, 'x0', 1)\n",
    "#     nRows, nColumns = dataFrame.shape\n",
    "#     X = dataFrame[['x0','x1']]\n",
    "#     y = dataFrame[['y']]\n",
    "#     beta = pd.DataFrame(np.zeros(X.shape[1]), columns = ['beta'])\n",
    "#     return beta, X, y\n",
    "\n",
    "def getData(pathToDataFile, xLabel, yLabel):\n",
    "    data = loadmat(pathToDataFile)\n",
    "    X = np.insert(data[xLabel], 0, 1, axis=1)\n",
    "    y = data[yLabel]\n",
    "    sampleSize, numVariables = X.shape\n",
    "    beta = np.zeros(numVariables)\n",
    "    return beta, X.flatten(), y.flatten()"
   ]
  },
  {
   "cell_type": "code",
   "execution_count": 22,
   "metadata": {
    "collapsed": false
   },
   "outputs": [
    {
     "data": {
      "text/plain": [
       "array([[ 0.],\n",
       "       [ 0.]])"
      ]
     },
     "execution_count": 22,
     "metadata": {},
     "output_type": "execute_result"
    }
   ],
   "source": [
    "sampleSize, nVariables = data['X'].shape\n",
    "\n",
    "beta, X, y = getData(pathToDataFile, 'X', 'y')\n",
    "\n",
    "beta, X, y = reshapeBetaXy(beta, X, y, sampleSize)\n",
    "beta"
   ]
  },
  {
   "cell_type": "markdown",
   "metadata": {},
   "source": [
    "## 1.2 Data Visualisation"
   ]
  },
  {
   "cell_type": "markdown",
   "metadata": {},
   "source": [
    "### 1.2.1 Training Set"
   ]
  },
  {
   "cell_type": "code",
   "execution_count": null,
   "metadata": {
    "collapsed": false
   },
   "outputs": [],
   "source": [
    "beta, X, y = getData(pathToDataFile, 'X', 'y')\n",
    "sampleSize, nVariables = X.shape"
   ]
  },
  {
   "cell_type": "code",
   "execution_count": null,
   "metadata": {
    "collapsed": false
   },
   "outputs": [],
   "source": [
    "pd.DataFrame(reshapeX(flattenX(X), sampleSize))"
   ]
  },
  {
   "cell_type": "code",
   "execution_count": 26,
   "metadata": {
    "collapsed": false
   },
   "outputs": [
    {
     "data": {
      "image/png": "[encoded data removed]",
      "text/plain": [
       "<matplotlib.figure.Figure at 0x11140dc18>"
      ]
     },
     "metadata": {},
     "output_type": "display_data"
    },
    {
     "name": "stdout",
     "output_type": "stream",
     "text": [
      "(12, 2)\n"
     ]
    }
   ],
   "source": [
    "flatBeta, flatX, flaty = getData(pathToDataFile, 'X', 'y')\n",
    "beta, X, y = reshapeBetaXy(flatBeta, flatX, flaty, sampleSize)\n",
    "plt.plot(X[:,-1], y, 'o')\n",
    "plt.show()\n",
    "print (X.shape)"
   ]
  },
  {
   "cell_type": "markdown",
   "metadata": {},
   "source": [
    "### 1.2.2 Validation Set"
   ]
  },
  {
   "cell_type": "code",
   "execution_count": null,
   "metadata": {
    "collapsed": false
   },
   "outputs": [],
   "source": [
    "beta, X_val, y_val = getData(pathToDataFile, 'Xval', 'yval')\n",
    "plt.plot(X_val['x1'], y_val, 'o')\n",
    "plt.show()\n",
    "print (X_val.shape)"
   ]
  },
  {
   "cell_type": "markdown",
   "metadata": {},
   "source": [
    "### 1.2.3 Test Set"
   ]
  },
  {
   "cell_type": "code",
   "execution_count": null,
   "metadata": {
    "collapsed": false
   },
   "outputs": [],
   "source": [
    "beta, X_test, y_test = getData(pathToDataFile, 'Xtest', 'ytest')\n",
    "plt.plot(X_test['x1'], y_test, 'o')\n",
    "plt.show()\n",
    "print (X_test.shape)"
   ]
  },
  {
   "cell_type": "markdown",
   "metadata": {},
   "source": [
    "## 1.3 Regularised Linear Regression\n",
    "\n",
    "**Hypothesis** $h_{\\beta}(X) =  X\\cdot\\beta$\n",
    "\n",
    "**Error** $e = (h_{\\beta}(X) - y)$\n",
    "\n",
    "**Cost Function** $J = \\frac{1}{2n}{\\sum(h_{\\beta} - y)^2}$\n",
    "\n",
    "**Regularisation Term** $R = \\frac{\\lambda}{2n}{\\sum{\\beta}^2}$\n",
    "\n",
    "**Regularised Cost** $J = \\frac{1}{2n}{\\sum(h_{\\beta} - y)^2} + \\frac{\\lambda}{2n}{\\sum{\\beta}^2}$\n",
    "\n",
    "**Gradient** $\\frac{\\partial J}{\\partial \\beta _0} = \\frac{1}{n}X^{T}\\cdot e$<br\\>\n",
    "$\\frac{\\partial J}{\\partial \\beta _{≠0}} = \\frac{1}{n}X^{T}\\cdot e + \\frac{\\lambda}{n}\\beta$<br\\>\n",
    "\n",
    "In the code $\\frac{\\partial J}{\\partial \\beta}$ is denoted symply as **g**."
   ]
  },
  {
   "cell_type": "code",
   "execution_count": null,
   "metadata": {
    "collapsed": false
   },
   "outputs": [],
   "source": [
    "def hypothesis(beta, flatX):\n",
    "    X = reshapeX(flatX, sampleSize)\n",
    "#     return hypothesis vector h(n, 1), where n is sampleSize\n",
    "    return np.dot(X, beta)\n",
    "\n",
    "def costFunction(beta, flatX, sampleSize, y, iLambda=0.):\n",
    "    X = reshapeX(flatX, sampleSize)\n",
    "#     hypothesis vector h(n, 1)\n",
    "    h = hypothesis(beta, X)\n",
    "#     cost scalar J(1, 1); technically the result is an array (1,1) rather than a float\n",
    "    J = np.dot((y-h).T, y-h)/(2*sampleSize)\n",
    "#     similarly cost J can be calculated using np.sum\n",
    "#     J = np.sum((y-h)**2)/(2*sampleSize)\n",
    "    R = iLambda*np.dot(beta.T, beta)/(2*sampleSize)\n",
    "    return (J + R)[0][0]\n",
    "\n",
    "def gradient(beta, flatX, sampleSize, y, iLambda=0.):\n",
    "    X = reshapeX(flatX, sampleSize)\n",
    "#     hypothesis vector h(n, 1)\n",
    "    h = hypothesis(beta, X)\n",
    "#     error vector e(n, 1) = h(n, 1) - y(n, 1)\n",
    "    e = h - y\n",
    "#     gradient vector g(k, 1) = X(n, k).T*e(n, 1)*\n",
    "    g = np.dot(X.T,e)/(sampleSize)\n",
    "#     regularisation term vector (r(400x1)) — derivative of the regularisation term of the cost funtion\n",
    "    r = beta[1:]*(iLambda/sampleSize)\n",
    "    g[1:] = g[1:] + r\n",
    "    return g"
   ]
  },
  {
   "cell_type": "code",
   "execution_count": null,
   "metadata": {
    "collapsed": false
   },
   "outputs": [],
   "source": [
    "flatX = flattenX(X)\n",
    "beta_ones = pd.DataFrame(np.ones(X.shape[1]))\n",
    "print(\"hypothesis =\", hypothesis(beta_ones, flatX))\n",
    "print(\"J =\", costFunction(beta_ones, flatX, sampleSize, y))\n",
    "print(\"gradient =\", gradient(beta_ones, flatX, sampleSize, y, iLambda=0.))\n",
    "(gradient(beta_ones, flatX, sampleSize, y, iLambda=0.)).shape"
   ]
  },
  {
   "cell_type": "code",
   "execution_count": null,
   "metadata": {
    "collapsed": true
   },
   "outputs": [],
   "source": [
    "def betaOptimisation(beta, X, y, iLambda=0.):\n",
    "    betaArray = {}\n",
    "    for i in np.unique(data['y']):\n",
    "        \n",
    "        optimisedBeta = optimize.minimize(costFunction, beta, args=(X, y == i, iLambda), method=None,\n",
    "                                          jac=gradient, options={'maxiter':50})\n",
    "        betaArray[i] = optimisedBeta['x']\n",
    "\n",
    "#         optimisedBeta = optimize.fmin_cg(costFunction, fprime=gradient, x0=beta, args=(X, y == i, iLambda),\n",
    "#                                          maxiter=50, disp=False, full_output=True)\n",
    "#         betaArray[i] = optimisedBeta[0]\n",
    "    return(betaArray)"
   ]
  },
  {
   "cell_type": "code",
   "execution_count": null,
   "metadata": {
    "collapsed": false
   },
   "outputs": [],
   "source": [
    "iLambda = 0.\n",
    "optimisedBeta = optimize.minimize(costFunction, beta, args=(flatX, sampleSize, y , iLambda), method=None,\n",
    "                                      jac=gradient, options={'maxiter':50})"
   ]
  },
  {
   "cell_type": "code",
   "execution_count": null,
   "metadata": {
    "collapsed": false
   },
   "outputs": [],
   "source": [
    "np.arange(12).reshape(-1, 3)"
   ]
  },
  {
   "cell_type": "code",
   "execution_count": null,
   "metadata": {
    "collapsed": true
   },
   "outputs": [],
   "source": []
  }
 ],
 "metadata": {
  "kernelspec": {
   "display_name": "Python 3",
   "language": "python",
   "name": "python3"
  },
  "language_info": {
   "codemirror_mode": {
    "name": "ipython",
    "version": 3
   },
   "file_extension": ".py",
   "mimetype": "text/x-python",
   "name": "python",
   "nbconvert_exporter": "python",
   "pygments_lexer": "ipython3",
   "version": "3.6.0"
  }
 },
 "nbformat": 4,
 "nbformat_minor": 2
}
